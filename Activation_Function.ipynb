{
  "nbformat": 4,
  "nbformat_minor": 0,
  "metadata": {
    "colab": {
      "name": "Activation_Function.ipynb",
      "provenance": []
    },
    "kernelspec": {
      "name": "python3",
      "display_name": "Python 3"
    },
    "language_info": {
      "name": "python"
    }
  },
  "cells": [
    {
      "cell_type": "code",
      "metadata": {
        "colab": {
          "base_uri": "https://localhost:8080/"
        },
        "id": "BzMAlItFkyQD",
        "outputId": "bc8c27d3-d457-4865-c5d9-d05e58e98347"
      },
      "source": [
        "import math\n",
        "# Sigmoid \n",
        "\n",
        "def sigmoid(x):\n",
        "  return 1 / (1 + math.exp(-x))\n",
        "\n",
        "print(sigmoid(-100), sigmoid(-50), sigmoid(0), sigmoid(50), sigmoid(100))"
      ],
      "execution_count": 2,
      "outputs": [
        {
          "output_type": "stream",
          "text": [
            "3.7200759760208356e-44 1.928749847963918e-22 0.5 1.0 1.0\n"
          ],
          "name": "stdout"
        }
      ]
    },
    {
      "cell_type": "code",
      "metadata": {
        "colab": {
          "base_uri": "https://localhost:8080/"
        },
        "id": "MVsSWmrmlRiw",
        "outputId": "b6c164fd-55fa-4535-8713-b9b75aa5c707"
      },
      "source": [
        "# tanh \n",
        "def tanh(x):\n",
        "  return (math.exp(x) - math.exp(-x)) / (math.exp(x) + math.exp(-x))\n",
        "\n",
        "print(tanh(-20), tanh(0), tanh(1), tanh(50), tanh(300))"
      ],
      "execution_count": 5,
      "outputs": [
        {
          "output_type": "stream",
          "text": [
            "-1.0 0.0 0.7615941559557649 1.0 1.0\n"
          ],
          "name": "stdout"
        }
      ]
    },
    {
      "cell_type": "code",
      "metadata": {
        "colab": {
          "base_uri": "https://localhost:8080/"
        },
        "id": "6yYJ2KhDlswV",
        "outputId": "b34312a0-ee1b-4740-d4e4-24e526ffdaad"
      },
      "source": [
        "# relu \n",
        "def relu(x):\n",
        "  return max(0, x)\n",
        "\n",
        "print(relu(-100), relu(0), relu(1))"
      ],
      "execution_count": 11,
      "outputs": [
        {
          "output_type": "stream",
          "text": [
            "0 0 1\n"
          ],
          "name": "stdout"
        }
      ]
    },
    {
      "cell_type": "code",
      "metadata": {
        "colab": {
          "base_uri": "https://localhost:8080/"
        },
        "id": "H46LlNgQl-HQ",
        "outputId": "db77b257-406d-4c22-8a6c-12af698ec973"
      },
      "source": [
        "# leaky relu \n",
        "def leaky_relu(x):\n",
        "  return max(0.1*x, x)\n",
        "\n",
        "print(leaky_relu(-100), leaky_relu(0), leaky_relu(1))"
      ],
      "execution_count": 12,
      "outputs": [
        {
          "output_type": "stream",
          "text": [
            "-10.0 0.0 1\n"
          ],
          "name": "stdout"
        }
      ]
    }
  ]
}