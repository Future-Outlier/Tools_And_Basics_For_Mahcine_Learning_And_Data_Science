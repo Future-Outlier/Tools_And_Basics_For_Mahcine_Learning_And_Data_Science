{
  "nbformat": 4,
  "nbformat_minor": 0,
  "metadata": {
    "colab": {
      "name": "Handle_Imblanced_Datasets.ipynb",
      "provenance": [],
      "collapsed_sections": []
    },
    "kernelspec": {
      "name": "python3",
      "display_name": "Python 3"
    },
    "language_info": {
      "name": "python"
    }
  },
  "cells": [
    {
      "cell_type": "markdown",
      "metadata": {
        "id": "ltkev2kp0KiI"
      },
      "source": [
        "dataset: https://www.kaggle.com/blastchar/telco-customer-churn"
      ]
    },
    {
      "cell_type": "code",
      "metadata": {
        "colab": {
          "base_uri": "https://localhost:8080/"
        },
        "id": "wymQXlzpzVqS",
        "outputId": "045dddec-e23c-4a1d-d79d-f2001eab70c2"
      },
      "source": [
        "from google.colab import drive # Import a library named google.colab\n",
        "drive.mount('/content/drive', force_remount=True) # mount the content to the directory `/content/drive`\n",
        "\n",
        "%cd /content/drive/MyDrive/Tensorflow_Practice\n",
        "# !mkdir HW13     # I HAVE MADE IT."
      ],
      "execution_count": 1,
      "outputs": [
        {
          "output_type": "stream",
          "text": [
            "Mounted at /content/drive\n",
            "/content/drive/MyDrive/Tensorflow_Practice\n"
          ],
          "name": "stdout"
        }
      ]
    },
    {
      "cell_type": "code",
      "metadata": {
        "id": "w6G_NXw90Tg2"
      },
      "source": [
        "  import tensorflow as tf\n",
        "  from tensorflow import keras # a high api \n",
        "  import pandas as pd\n",
        "  import numpy as np\n",
        "  import matplotlib.pyplot as plt"
      ],
      "execution_count": 2,
      "outputs": []
    },
    {
      "cell_type": "code",
      "metadata": {
        "colab": {
          "base_uri": "https://localhost:8080/",
          "height": 312
        },
        "id": "XA9LfKad0U5v",
        "outputId": "958486da-617b-43d8-c6ee-6a9b756e40b9"
      },
      "source": [
        "df = pd.read_csv(\"WA_Fn-UseC_-Telco-Customer-Churn.csv\")\n",
        "df.head()"
      ],
      "execution_count": 3,
      "outputs": [
        {
          "output_type": "execute_result",
          "data": {
            "text/html": [
              "<div>\n",
              "<style scoped>\n",
              "    .dataframe tbody tr th:only-of-type {\n",
              "        vertical-align: middle;\n",
              "    }\n",
              "\n",
              "    .dataframe tbody tr th {\n",
              "        vertical-align: top;\n",
              "    }\n",
              "\n",
              "    .dataframe thead th {\n",
              "        text-align: right;\n",
              "    }\n",
              "</style>\n",
              "<table border=\"1\" class=\"dataframe\">\n",
              "  <thead>\n",
              "    <tr style=\"text-align: right;\">\n",
              "      <th></th>\n",
              "      <th>customerID</th>\n",
              "      <th>gender</th>\n",
              "      <th>SeniorCitizen</th>\n",
              "      <th>Partner</th>\n",
              "      <th>Dependents</th>\n",
              "      <th>tenure</th>\n",
              "      <th>PhoneService</th>\n",
              "      <th>MultipleLines</th>\n",
              "      <th>InternetService</th>\n",
              "      <th>OnlineSecurity</th>\n",
              "      <th>OnlineBackup</th>\n",
              "      <th>DeviceProtection</th>\n",
              "      <th>TechSupport</th>\n",
              "      <th>StreamingTV</th>\n",
              "      <th>StreamingMovies</th>\n",
              "      <th>Contract</th>\n",
              "      <th>PaperlessBilling</th>\n",
              "      <th>PaymentMethod</th>\n",
              "      <th>MonthlyCharges</th>\n",
              "      <th>TotalCharges</th>\n",
              "      <th>Churn</th>\n",
              "    </tr>\n",
              "  </thead>\n",
              "  <tbody>\n",
              "    <tr>\n",
              "      <th>0</th>\n",
              "      <td>7590-VHVEG</td>\n",
              "      <td>Female</td>\n",
              "      <td>0</td>\n",
              "      <td>Yes</td>\n",
              "      <td>No</td>\n",
              "      <td>1</td>\n",
              "      <td>No</td>\n",
              "      <td>No phone service</td>\n",
              "      <td>DSL</td>\n",
              "      <td>No</td>\n",
              "      <td>Yes</td>\n",
              "      <td>No</td>\n",
              "      <td>No</td>\n",
              "      <td>No</td>\n",
              "      <td>No</td>\n",
              "      <td>Month-to-month</td>\n",
              "      <td>Yes</td>\n",
              "      <td>Electronic check</td>\n",
              "      <td>29.85</td>\n",
              "      <td>29.85</td>\n",
              "      <td>No</td>\n",
              "    </tr>\n",
              "    <tr>\n",
              "      <th>1</th>\n",
              "      <td>5575-GNVDE</td>\n",
              "      <td>Male</td>\n",
              "      <td>0</td>\n",
              "      <td>No</td>\n",
              "      <td>No</td>\n",
              "      <td>34</td>\n",
              "      <td>Yes</td>\n",
              "      <td>No</td>\n",
              "      <td>DSL</td>\n",
              "      <td>Yes</td>\n",
              "      <td>No</td>\n",
              "      <td>Yes</td>\n",
              "      <td>No</td>\n",
              "      <td>No</td>\n",
              "      <td>No</td>\n",
              "      <td>One year</td>\n",
              "      <td>No</td>\n",
              "      <td>Mailed check</td>\n",
              "      <td>56.95</td>\n",
              "      <td>1889.5</td>\n",
              "      <td>No</td>\n",
              "    </tr>\n",
              "    <tr>\n",
              "      <th>2</th>\n",
              "      <td>3668-QPYBK</td>\n",
              "      <td>Male</td>\n",
              "      <td>0</td>\n",
              "      <td>No</td>\n",
              "      <td>No</td>\n",
              "      <td>2</td>\n",
              "      <td>Yes</td>\n",
              "      <td>No</td>\n",
              "      <td>DSL</td>\n",
              "      <td>Yes</td>\n",
              "      <td>Yes</td>\n",
              "      <td>No</td>\n",
              "      <td>No</td>\n",
              "      <td>No</td>\n",
              "      <td>No</td>\n",
              "      <td>Month-to-month</td>\n",
              "      <td>Yes</td>\n",
              "      <td>Mailed check</td>\n",
              "      <td>53.85</td>\n",
              "      <td>108.15</td>\n",
              "      <td>Yes</td>\n",
              "    </tr>\n",
              "    <tr>\n",
              "      <th>3</th>\n",
              "      <td>7795-CFOCW</td>\n",
              "      <td>Male</td>\n",
              "      <td>0</td>\n",
              "      <td>No</td>\n",
              "      <td>No</td>\n",
              "      <td>45</td>\n",
              "      <td>No</td>\n",
              "      <td>No phone service</td>\n",
              "      <td>DSL</td>\n",
              "      <td>Yes</td>\n",
              "      <td>No</td>\n",
              "      <td>Yes</td>\n",
              "      <td>Yes</td>\n",
              "      <td>No</td>\n",
              "      <td>No</td>\n",
              "      <td>One year</td>\n",
              "      <td>No</td>\n",
              "      <td>Bank transfer (automatic)</td>\n",
              "      <td>42.30</td>\n",
              "      <td>1840.75</td>\n",
              "      <td>No</td>\n",
              "    </tr>\n",
              "    <tr>\n",
              "      <th>4</th>\n",
              "      <td>9237-HQITU</td>\n",
              "      <td>Female</td>\n",
              "      <td>0</td>\n",
              "      <td>No</td>\n",
              "      <td>No</td>\n",
              "      <td>2</td>\n",
              "      <td>Yes</td>\n",
              "      <td>No</td>\n",
              "      <td>Fiber optic</td>\n",
              "      <td>No</td>\n",
              "      <td>No</td>\n",
              "      <td>No</td>\n",
              "      <td>No</td>\n",
              "      <td>No</td>\n",
              "      <td>No</td>\n",
              "      <td>Month-to-month</td>\n",
              "      <td>Yes</td>\n",
              "      <td>Electronic check</td>\n",
              "      <td>70.70</td>\n",
              "      <td>151.65</td>\n",
              "      <td>Yes</td>\n",
              "    </tr>\n",
              "  </tbody>\n",
              "</table>\n",
              "</div>"
            ],
            "text/plain": [
              "   customerID  gender  SeniorCitizen  ... MonthlyCharges TotalCharges  Churn\n",
              "0  7590-VHVEG  Female              0  ...          29.85        29.85     No\n",
              "1  5575-GNVDE    Male              0  ...          56.95       1889.5     No\n",
              "2  3668-QPYBK    Male              0  ...          53.85       108.15    Yes\n",
              "3  7795-CFOCW    Male              0  ...          42.30      1840.75     No\n",
              "4  9237-HQITU  Female              0  ...          70.70       151.65    Yes\n",
              "\n",
              "[5 rows x 21 columns]"
            ]
          },
          "metadata": {
            "tags": []
          },
          "execution_count": 3
        }
      ]
    },
    {
      "cell_type": "markdown",
      "metadata": {
        "id": "c7seWEYJ03kz"
      },
      "source": [
        "data exploration"
      ]
    },
    {
      "cell_type": "code",
      "metadata": {
        "colab": {
          "base_uri": "https://localhost:8080/"
        },
        "id": "lXo9FH-705Aj",
        "outputId": "1943d1c2-2ee4-40bb-9f5a-8bbd4d5cf3c0"
      },
      "source": [
        "df.drop(\"customerID\", axis=\"columns\", inplace=True) # remove the unuseful information\n",
        "df.dtypes # see the data type of each columns "
      ],
      "execution_count": 4,
      "outputs": [
        {
          "output_type": "execute_result",
          "data": {
            "text/plain": [
              "gender               object\n",
              "SeniorCitizen         int64\n",
              "Partner              object\n",
              "Dependents           object\n",
              "tenure                int64\n",
              "PhoneService         object\n",
              "MultipleLines        object\n",
              "InternetService      object\n",
              "OnlineSecurity       object\n",
              "OnlineBackup         object\n",
              "DeviceProtection     object\n",
              "TechSupport          object\n",
              "StreamingTV          object\n",
              "StreamingMovies      object\n",
              "Contract             object\n",
              "PaperlessBilling     object\n",
              "PaymentMethod        object\n",
              "MonthlyCharges      float64\n",
              "TotalCharges         object\n",
              "Churn                object\n",
              "dtype: object"
            ]
          },
          "metadata": {
            "tags": []
          },
          "execution_count": 4
        }
      ]
    },
    {
      "cell_type": "code",
      "metadata": {
        "colab": {
          "base_uri": "https://localhost:8080/"
        },
        "id": "Uwf90JUb1F4Q",
        "outputId": "41689cb9-f285-45aa-e470-ca4a6abafcf6"
      },
      "source": [
        "# because MonthlyCharges is type of float64, TotalCharges is type object \n",
        "# we have to convert object to float\n",
        "pd.to_numeric(df.TotalCharges, errors='coerce').isnull() # numeric make the invalid data to Nan"
      ],
      "execution_count": 5,
      "outputs": [
        {
          "output_type": "execute_result",
          "data": {
            "text/plain": [
              "0       False\n",
              "1       False\n",
              "2       False\n",
              "3       False\n",
              "4       False\n",
              "        ...  \n",
              "7038    False\n",
              "7039    False\n",
              "7040    False\n",
              "7041    False\n",
              "7042    False\n",
              "Name: TotalCharges, Length: 7043, dtype: bool"
            ]
          },
          "metadata": {
            "tags": []
          },
          "execution_count": 5
        }
      ]
    },
    {
      "cell_type": "code",
      "metadata": {
        "colab": {
          "base_uri": "https://localhost:8080/",
          "height": 569
        },
        "id": "WMQQuDb005ID",
        "outputId": "6c2f0777-39f3-45f1-bd7a-e74ce1079216"
      },
      "source": [
        "# to get the index of invalid data \n",
        "df[pd.to_numeric(df.TotalCharges, errors='coerce').isnull()]"
      ],
      "execution_count": 6,
      "outputs": [
        {
          "output_type": "execute_result",
          "data": {
            "text/html": [
              "<div>\n",
              "<style scoped>\n",
              "    .dataframe tbody tr th:only-of-type {\n",
              "        vertical-align: middle;\n",
              "    }\n",
              "\n",
              "    .dataframe tbody tr th {\n",
              "        vertical-align: top;\n",
              "    }\n",
              "\n",
              "    .dataframe thead th {\n",
              "        text-align: right;\n",
              "    }\n",
              "</style>\n",
              "<table border=\"1\" class=\"dataframe\">\n",
              "  <thead>\n",
              "    <tr style=\"text-align: right;\">\n",
              "      <th></th>\n",
              "      <th>gender</th>\n",
              "      <th>SeniorCitizen</th>\n",
              "      <th>Partner</th>\n",
              "      <th>Dependents</th>\n",
              "      <th>tenure</th>\n",
              "      <th>PhoneService</th>\n",
              "      <th>MultipleLines</th>\n",
              "      <th>InternetService</th>\n",
              "      <th>OnlineSecurity</th>\n",
              "      <th>OnlineBackup</th>\n",
              "      <th>DeviceProtection</th>\n",
              "      <th>TechSupport</th>\n",
              "      <th>StreamingTV</th>\n",
              "      <th>StreamingMovies</th>\n",
              "      <th>Contract</th>\n",
              "      <th>PaperlessBilling</th>\n",
              "      <th>PaymentMethod</th>\n",
              "      <th>MonthlyCharges</th>\n",
              "      <th>TotalCharges</th>\n",
              "      <th>Churn</th>\n",
              "    </tr>\n",
              "  </thead>\n",
              "  <tbody>\n",
              "    <tr>\n",
              "      <th>488</th>\n",
              "      <td>Female</td>\n",
              "      <td>0</td>\n",
              "      <td>Yes</td>\n",
              "      <td>Yes</td>\n",
              "      <td>0</td>\n",
              "      <td>No</td>\n",
              "      <td>No phone service</td>\n",
              "      <td>DSL</td>\n",
              "      <td>Yes</td>\n",
              "      <td>No</td>\n",
              "      <td>Yes</td>\n",
              "      <td>Yes</td>\n",
              "      <td>Yes</td>\n",
              "      <td>No</td>\n",
              "      <td>Two year</td>\n",
              "      <td>Yes</td>\n",
              "      <td>Bank transfer (automatic)</td>\n",
              "      <td>52.55</td>\n",
              "      <td></td>\n",
              "      <td>No</td>\n",
              "    </tr>\n",
              "    <tr>\n",
              "      <th>753</th>\n",
              "      <td>Male</td>\n",
              "      <td>0</td>\n",
              "      <td>No</td>\n",
              "      <td>Yes</td>\n",
              "      <td>0</td>\n",
              "      <td>Yes</td>\n",
              "      <td>No</td>\n",
              "      <td>No</td>\n",
              "      <td>No internet service</td>\n",
              "      <td>No internet service</td>\n",
              "      <td>No internet service</td>\n",
              "      <td>No internet service</td>\n",
              "      <td>No internet service</td>\n",
              "      <td>No internet service</td>\n",
              "      <td>Two year</td>\n",
              "      <td>No</td>\n",
              "      <td>Mailed check</td>\n",
              "      <td>20.25</td>\n",
              "      <td></td>\n",
              "      <td>No</td>\n",
              "    </tr>\n",
              "    <tr>\n",
              "      <th>936</th>\n",
              "      <td>Female</td>\n",
              "      <td>0</td>\n",
              "      <td>Yes</td>\n",
              "      <td>Yes</td>\n",
              "      <td>0</td>\n",
              "      <td>Yes</td>\n",
              "      <td>No</td>\n",
              "      <td>DSL</td>\n",
              "      <td>Yes</td>\n",
              "      <td>Yes</td>\n",
              "      <td>Yes</td>\n",
              "      <td>No</td>\n",
              "      <td>Yes</td>\n",
              "      <td>Yes</td>\n",
              "      <td>Two year</td>\n",
              "      <td>No</td>\n",
              "      <td>Mailed check</td>\n",
              "      <td>80.85</td>\n",
              "      <td></td>\n",
              "      <td>No</td>\n",
              "    </tr>\n",
              "    <tr>\n",
              "      <th>1082</th>\n",
              "      <td>Male</td>\n",
              "      <td>0</td>\n",
              "      <td>Yes</td>\n",
              "      <td>Yes</td>\n",
              "      <td>0</td>\n",
              "      <td>Yes</td>\n",
              "      <td>Yes</td>\n",
              "      <td>No</td>\n",
              "      <td>No internet service</td>\n",
              "      <td>No internet service</td>\n",
              "      <td>No internet service</td>\n",
              "      <td>No internet service</td>\n",
              "      <td>No internet service</td>\n",
              "      <td>No internet service</td>\n",
              "      <td>Two year</td>\n",
              "      <td>No</td>\n",
              "      <td>Mailed check</td>\n",
              "      <td>25.75</td>\n",
              "      <td></td>\n",
              "      <td>No</td>\n",
              "    </tr>\n",
              "    <tr>\n",
              "      <th>1340</th>\n",
              "      <td>Female</td>\n",
              "      <td>0</td>\n",
              "      <td>Yes</td>\n",
              "      <td>Yes</td>\n",
              "      <td>0</td>\n",
              "      <td>No</td>\n",
              "      <td>No phone service</td>\n",
              "      <td>DSL</td>\n",
              "      <td>Yes</td>\n",
              "      <td>Yes</td>\n",
              "      <td>Yes</td>\n",
              "      <td>Yes</td>\n",
              "      <td>Yes</td>\n",
              "      <td>No</td>\n",
              "      <td>Two year</td>\n",
              "      <td>No</td>\n",
              "      <td>Credit card (automatic)</td>\n",
              "      <td>56.05</td>\n",
              "      <td></td>\n",
              "      <td>No</td>\n",
              "    </tr>\n",
              "    <tr>\n",
              "      <th>3331</th>\n",
              "      <td>Male</td>\n",
              "      <td>0</td>\n",
              "      <td>Yes</td>\n",
              "      <td>Yes</td>\n",
              "      <td>0</td>\n",
              "      <td>Yes</td>\n",
              "      <td>No</td>\n",
              "      <td>No</td>\n",
              "      <td>No internet service</td>\n",
              "      <td>No internet service</td>\n",
              "      <td>No internet service</td>\n",
              "      <td>No internet service</td>\n",
              "      <td>No internet service</td>\n",
              "      <td>No internet service</td>\n",
              "      <td>Two year</td>\n",
              "      <td>No</td>\n",
              "      <td>Mailed check</td>\n",
              "      <td>19.85</td>\n",
              "      <td></td>\n",
              "      <td>No</td>\n",
              "    </tr>\n",
              "    <tr>\n",
              "      <th>3826</th>\n",
              "      <td>Male</td>\n",
              "      <td>0</td>\n",
              "      <td>Yes</td>\n",
              "      <td>Yes</td>\n",
              "      <td>0</td>\n",
              "      <td>Yes</td>\n",
              "      <td>Yes</td>\n",
              "      <td>No</td>\n",
              "      <td>No internet service</td>\n",
              "      <td>No internet service</td>\n",
              "      <td>No internet service</td>\n",
              "      <td>No internet service</td>\n",
              "      <td>No internet service</td>\n",
              "      <td>No internet service</td>\n",
              "      <td>Two year</td>\n",
              "      <td>No</td>\n",
              "      <td>Mailed check</td>\n",
              "      <td>25.35</td>\n",
              "      <td></td>\n",
              "      <td>No</td>\n",
              "    </tr>\n",
              "    <tr>\n",
              "      <th>4380</th>\n",
              "      <td>Female</td>\n",
              "      <td>0</td>\n",
              "      <td>Yes</td>\n",
              "      <td>Yes</td>\n",
              "      <td>0</td>\n",
              "      <td>Yes</td>\n",
              "      <td>No</td>\n",
              "      <td>No</td>\n",
              "      <td>No internet service</td>\n",
              "      <td>No internet service</td>\n",
              "      <td>No internet service</td>\n",
              "      <td>No internet service</td>\n",
              "      <td>No internet service</td>\n",
              "      <td>No internet service</td>\n",
              "      <td>Two year</td>\n",
              "      <td>No</td>\n",
              "      <td>Mailed check</td>\n",
              "      <td>20.00</td>\n",
              "      <td></td>\n",
              "      <td>No</td>\n",
              "    </tr>\n",
              "    <tr>\n",
              "      <th>5218</th>\n",
              "      <td>Male</td>\n",
              "      <td>0</td>\n",
              "      <td>Yes</td>\n",
              "      <td>Yes</td>\n",
              "      <td>0</td>\n",
              "      <td>Yes</td>\n",
              "      <td>No</td>\n",
              "      <td>No</td>\n",
              "      <td>No internet service</td>\n",
              "      <td>No internet service</td>\n",
              "      <td>No internet service</td>\n",
              "      <td>No internet service</td>\n",
              "      <td>No internet service</td>\n",
              "      <td>No internet service</td>\n",
              "      <td>One year</td>\n",
              "      <td>Yes</td>\n",
              "      <td>Mailed check</td>\n",
              "      <td>19.70</td>\n",
              "      <td></td>\n",
              "      <td>No</td>\n",
              "    </tr>\n",
              "    <tr>\n",
              "      <th>6670</th>\n",
              "      <td>Female</td>\n",
              "      <td>0</td>\n",
              "      <td>Yes</td>\n",
              "      <td>Yes</td>\n",
              "      <td>0</td>\n",
              "      <td>Yes</td>\n",
              "      <td>Yes</td>\n",
              "      <td>DSL</td>\n",
              "      <td>No</td>\n",
              "      <td>Yes</td>\n",
              "      <td>Yes</td>\n",
              "      <td>Yes</td>\n",
              "      <td>Yes</td>\n",
              "      <td>No</td>\n",
              "      <td>Two year</td>\n",
              "      <td>No</td>\n",
              "      <td>Mailed check</td>\n",
              "      <td>73.35</td>\n",
              "      <td></td>\n",
              "      <td>No</td>\n",
              "    </tr>\n",
              "    <tr>\n",
              "      <th>6754</th>\n",
              "      <td>Male</td>\n",
              "      <td>0</td>\n",
              "      <td>No</td>\n",
              "      <td>Yes</td>\n",
              "      <td>0</td>\n",
              "      <td>Yes</td>\n",
              "      <td>Yes</td>\n",
              "      <td>DSL</td>\n",
              "      <td>Yes</td>\n",
              "      <td>Yes</td>\n",
              "      <td>No</td>\n",
              "      <td>Yes</td>\n",
              "      <td>No</td>\n",
              "      <td>No</td>\n",
              "      <td>Two year</td>\n",
              "      <td>Yes</td>\n",
              "      <td>Bank transfer (automatic)</td>\n",
              "      <td>61.90</td>\n",
              "      <td></td>\n",
              "      <td>No</td>\n",
              "    </tr>\n",
              "  </tbody>\n",
              "</table>\n",
              "</div>"
            ],
            "text/plain": [
              "      gender  SeniorCitizen Partner  ... MonthlyCharges  TotalCharges Churn\n",
              "488   Female              0     Yes  ...          52.55                  No\n",
              "753     Male              0      No  ...          20.25                  No\n",
              "936   Female              0     Yes  ...          80.85                  No\n",
              "1082    Male              0     Yes  ...          25.75                  No\n",
              "1340  Female              0     Yes  ...          56.05                  No\n",
              "3331    Male              0     Yes  ...          19.85                  No\n",
              "3826    Male              0     Yes  ...          25.35                  No\n",
              "4380  Female              0     Yes  ...          20.00                  No\n",
              "5218    Male              0     Yes  ...          19.70                  No\n",
              "6670  Female              0     Yes  ...          73.35                  No\n",
              "6754    Male              0      No  ...          61.90                  No\n",
              "\n",
              "[11 rows x 20 columns]"
            ]
          },
          "metadata": {
            "tags": []
          },
          "execution_count": 6
        }
      ]
    },
    {
      "cell_type": "code",
      "metadata": {
        "colab": {
          "base_uri": "https://localhost:8080/",
          "height": 34
        },
        "id": "8hCbglICDM2B",
        "outputId": "477d66ec-f5b4-46de-e14a-4b4ec5d76f5a"
      },
      "source": [
        "df.iloc[488][\"TotalCharges\"]"
      ],
      "execution_count": 7,
      "outputs": [
        {
          "output_type": "execute_result",
          "data": {
            "application/vnd.google.colaboratory.intrinsic+json": {
              "type": "string"
            },
            "text/plain": [
              "' '"
            ]
          },
          "metadata": {
            "tags": []
          },
          "execution_count": 7
        }
      ]
    },
    {
      "cell_type": "code",
      "metadata": {
        "colab": {
          "base_uri": "https://localhost:8080/"
        },
        "id": "Ui3el-kw35qx",
        "outputId": "c6771921-6a4c-49ab-d30a-ab794ff508c8"
      },
      "source": [
        "# df1 = df[df.TotalCharges != ' ']\n",
        "indexes =  df[pd.to_numeric(df.TotalCharges, errors='coerce').isnull()].index\n",
        "print(indexes)\n",
        "df1 = df.drop(indexes, axis = 'rows')\n",
        "df1.shape"
      ],
      "execution_count": 8,
      "outputs": [
        {
          "output_type": "stream",
          "text": [
            "Int64Index([488, 753, 936, 1082, 1340, 3331, 3826, 4380, 5218, 6670, 6754], dtype='int64')\n"
          ],
          "name": "stdout"
        },
        {
          "output_type": "execute_result",
          "data": {
            "text/plain": [
              "(7032, 20)"
            ]
          },
          "metadata": {
            "tags": []
          },
          "execution_count": 8
        }
      ]
    },
    {
      "cell_type": "code",
      "metadata": {
        "colab": {
          "base_uri": "https://localhost:8080/"
        },
        "id": "-QreakZg35v7",
        "outputId": "a66130f7-7837-4596-f124-6795c0e143ce"
      },
      "source": [
        "df1.dtypes"
      ],
      "execution_count": 9,
      "outputs": [
        {
          "output_type": "execute_result",
          "data": {
            "text/plain": [
              "gender               object\n",
              "SeniorCitizen         int64\n",
              "Partner              object\n",
              "Dependents           object\n",
              "tenure                int64\n",
              "PhoneService         object\n",
              "MultipleLines        object\n",
              "InternetService      object\n",
              "OnlineSecurity       object\n",
              "OnlineBackup         object\n",
              "DeviceProtection     object\n",
              "TechSupport          object\n",
              "StreamingTV          object\n",
              "StreamingMovies      object\n",
              "Contract             object\n",
              "PaperlessBilling     object\n",
              "PaymentMethod        object\n",
              "MonthlyCharges      float64\n",
              "TotalCharges         object\n",
              "Churn                object\n",
              "dtype: object"
            ]
          },
          "metadata": {
            "tags": []
          },
          "execution_count": 9
        }
      ]
    },
    {
      "cell_type": "code",
      "metadata": {
        "colab": {
          "base_uri": "https://localhost:8080/"
        },
        "id": "plxmOqjp4a1M",
        "outputId": "0dc67bd3-2007-4f69-9666-cabbfff9b655"
      },
      "source": [
        "df1.TotalCharges = pd.to_numeric(df1.TotalCharges)\n",
        "df1.TotalCharges"
      ],
      "execution_count": 10,
      "outputs": [
        {
          "output_type": "execute_result",
          "data": {
            "text/plain": [
              "0         29.85\n",
              "1       1889.50\n",
              "2        108.15\n",
              "3       1840.75\n",
              "4        151.65\n",
              "         ...   \n",
              "7038    1990.50\n",
              "7039    7362.90\n",
              "7040     346.45\n",
              "7041     306.60\n",
              "7042    6844.50\n",
              "Name: TotalCharges, Length: 7032, dtype: float64"
            ]
          },
          "metadata": {
            "tags": []
          },
          "execution_count": 10
        }
      ]
    },
    {
      "cell_type": "code",
      "metadata": {
        "colab": {
          "base_uri": "https://localhost:8080/",
          "height": 367
        },
        "id": "Jmypj-9L4a3u",
        "outputId": "4754dc7e-f537-4c43-95bc-e52d57c23133"
      },
      "source": [
        "tenure_churn_no = df1[df1.Churn=='No'].tenure \n",
        "tenure_churn_yes = df1[df1.Churn=='Yes'].tenure\n",
        "\n",
        "plt.xlabel(\"tenure\")\n",
        "plt.ylabel(\"Number Of Customers\")\n",
        "plt.title(\"Customer Churn Prediction Visualiztion\")\n",
        "plt.hist([tenure_churn_yes, tenure_churn_no], rwidth=0.95, color=['blue', 'yellow'], label=['Churn=Yes', 'Churn=No'])\n",
        "plt.legend() # about the label"
      ],
      "execution_count": 11,
      "outputs": [
        {
          "output_type": "stream",
          "text": [
            "/usr/local/lib/python3.7/dist-packages/numpy/core/_asarray.py:83: VisibleDeprecationWarning: Creating an ndarray from ragged nested sequences (which is a list-or-tuple of lists-or-tuples-or ndarrays with different lengths or shapes) is deprecated. If you meant to do this, you must specify 'dtype=object' when creating the ndarray\n",
            "  return array(a, dtype, copy=False, order=order)\n"
          ],
          "name": "stderr"
        },
        {
          "output_type": "execute_result",
          "data": {
            "text/plain": [
              "<matplotlib.legend.Legend at 0x7fbaf4543ed0>"
            ]
          },
          "metadata": {
            "tags": []
          },
          "execution_count": 11
        },
        {
          "output_type": "display_data",
          "data": {
            "image/png": "[encoded data removed]",
            "text/plain": [
              "<Figure size 432x288 with 1 Axes>"
            ]
          },
          "metadata": {
            "tags": [],
            "needs_background": "light"
          }
        }
      ]
    },
    {
      "cell_type": "code",
      "metadata": {
        "colab": {
          "base_uri": "https://localhost:8080/",
          "height": 367
        },
        "id": "2ty7gem54a5-",
        "outputId": "eba50077-063b-4003-93af-c57d44f06d0b"
      },
      "source": [
        "mc_churn_no = df1[df1.Churn=='No'].MonthlyCharges      \n",
        "mc_churn_yes = df1[df1.Churn=='Yes'].MonthlyCharges      \n",
        "\n",
        "plt.xlabel(\"Monthly Charges\")\n",
        "plt.ylabel(\"Number Of Customers\")\n",
        "plt.title(\"Customer Churn Prediction Visualiztion\")\n",
        "\n",
        "plt.hist([mc_churn_yes, mc_churn_no], rwidth=0.95,color=['blue', 'yellow'], label=['Churn=Yes', 'Churn=No'])\n",
        "plt.legend()"
      ],
      "execution_count": 12,
      "outputs": [
        {
          "output_type": "stream",
          "text": [
            "/usr/local/lib/python3.7/dist-packages/numpy/core/_asarray.py:83: VisibleDeprecationWarning: Creating an ndarray from ragged nested sequences (which is a list-or-tuple of lists-or-tuples-or ndarrays with different lengths or shapes) is deprecated. If you meant to do this, you must specify 'dtype=object' when creating the ndarray\n",
            "  return array(a, dtype, copy=False, order=order)\n"
          ],
          "name": "stderr"
        },
        {
          "output_type": "execute_result",
          "data": {
            "text/plain": [
              "<matplotlib.legend.Legend at 0x7fbaf4465f50>"
            ]
          },
          "metadata": {
            "tags": []
          },
          "execution_count": 12
        },
        {
          "output_type": "display_data",
          "data": {
            "image/png": "[encoded data removed]",
            "text/plain": [
              "<Figure size 432x288 with 1 Axes>"
            ]
          },
          "metadata": {
            "tags": [],
            "needs_background": "light"
          }
        }
      ]
    },
    {
      "cell_type": "code",
      "metadata": {
        "colab": {
          "base_uri": "https://localhost:8080/"
        },
        "id": "vuCMTF1rFb4e",
        "outputId": "9fcb60dc-0909-4733-c652-25ac8989130b"
      },
      "source": [
        "def print_unique_col_values(df):\n",
        "  for column in df:\n",
        "    if df[column].dtypes=='object':\n",
        "      print(f'{column}: {df[column].unique()}')\n",
        "print_unique_col_values(df1)"
      ],
      "execution_count": 13,
      "outputs": [
        {
          "output_type": "stream",
          "text": [
            "gender: ['Female' 'Male']\n",
            "Partner: ['Yes' 'No']\n",
            "Dependents: ['No' 'Yes']\n",
            "PhoneService: ['No' 'Yes']\n",
            "MultipleLines: ['No phone service' 'No' 'Yes']\n",
            "InternetService: ['DSL' 'Fiber optic' 'No']\n",
            "OnlineSecurity: ['No' 'Yes' 'No internet service']\n",
            "OnlineBackup: ['Yes' 'No' 'No internet service']\n",
            "DeviceProtection: ['No' 'Yes' 'No internet service']\n",
            "TechSupport: ['No' 'Yes' 'No internet service']\n",
            "StreamingTV: ['No' 'Yes' 'No internet service']\n",
            "StreamingMovies: ['No' 'Yes' 'No internet service']\n",
            "Contract: ['Month-to-month' 'One year' 'Two year']\n",
            "PaperlessBilling: ['Yes' 'No']\n",
            "PaymentMethod: ['Electronic check' 'Mailed check' 'Bank transfer (automatic)'\n",
            " 'Credit card (automatic)']\n",
            "Churn: ['No' 'Yes']\n"
          ],
          "name": "stdout"
        }
      ]
    },
    {
      "cell_type": "code",
      "metadata": {
        "colab": {
          "base_uri": "https://localhost:8080/"
        },
        "id": "UJ0k7UyFFb7N",
        "outputId": "0d0a09df-6663-4c80-dd05-db8478c91ef3"
      },
      "source": [
        "df1.replace({'No internet service': 'No','No phone service': 'No'},inplace=True)\n",
        "print_unique_col_values(df1)"
      ],
      "execution_count": 14,
      "outputs": [
        {
          "output_type": "stream",
          "text": [
            "gender: ['Female' 'Male']\n",
            "Partner: ['Yes' 'No']\n",
            "Dependents: ['No' 'Yes']\n",
            "PhoneService: ['No' 'Yes']\n",
            "MultipleLines: ['No' 'Yes']\n",
            "InternetService: ['DSL' 'Fiber optic' 'No']\n",
            "OnlineSecurity: ['No' 'Yes']\n",
            "OnlineBackup: ['Yes' 'No']\n",
            "DeviceProtection: ['No' 'Yes']\n",
            "TechSupport: ['No' 'Yes']\n",
            "StreamingTV: ['No' 'Yes']\n",
            "StreamingMovies: ['No' 'Yes']\n",
            "Contract: ['Month-to-month' 'One year' 'Two year']\n",
            "PaperlessBilling: ['Yes' 'No']\n",
            "PaymentMethod: ['Electronic check' 'Mailed check' 'Bank transfer (automatic)'\n",
            " 'Credit card (automatic)']\n",
            "Churn: ['No' 'Yes']\n"
          ],
          "name": "stdout"
        }
      ]
    },
    {
      "cell_type": "code",
      "metadata": {
        "id": "HHc19RFEHxkm"
      },
      "source": [
        "yes_no_collumns = [ \"Partner\", 'Dependents', 'PhoneService', 'MultipleLines', 'OnlineSecurity',\n",
        "                   'OnlineBackup', 'DeviceProtection', 'TechSupport', 'StreamingTV', 'StreamingMovies', \"PaperlessBilling\", \"Churn\"]\n",
        "\n",
        "for col in yes_no_collumns:\n",
        "  df1[col].replace({'Yes' : 1, 'No' : 0}, inplace=True)"
      ],
      "execution_count": 15,
      "outputs": []
    },
    {
      "cell_type": "code",
      "metadata": {
        "colab": {
          "base_uri": "https://localhost:8080/"
        },
        "id": "tR8WQ3n3J19L",
        "outputId": "8bd06fbc-6fc9-42f9-be1a-69d6fbb13e05"
      },
      "source": [
        "print_unique_col_values(df1)"
      ],
      "execution_count": 16,
      "outputs": [
        {
          "output_type": "stream",
          "text": [
            "gender: ['Female' 'Male']\n",
            "InternetService: ['DSL' 'Fiber optic' 'No']\n",
            "Contract: ['Month-to-month' 'One year' 'Two year']\n",
            "PaymentMethod: ['Electronic check' 'Mailed check' 'Bank transfer (automatic)'\n",
            " 'Credit card (automatic)']\n"
          ],
          "name": "stdout"
        }
      ]
    },
    {
      "cell_type": "code",
      "metadata": {
        "id": "-IL9l5nUJ1_6"
      },
      "source": [
        "df1[\"gender\"].replace({'Female':0, 'Male':1 }, inplace=True)"
      ],
      "execution_count": 17,
      "outputs": []
    },
    {
      "cell_type": "code",
      "metadata": {
        "colab": {
          "base_uri": "https://localhost:8080/",
          "height": 260
        },
        "id": "5CWvGdK3J2CL",
        "outputId": "0bb0332d-26b3-40ff-e3f1-8b94e063fc96"
      },
      "source": [
        "df2 = pd.get_dummies(data=df1, columns=[\"InternetService\", \"Contract\", \"PaymentMethod\"]) \n",
        "df2.head()"
      ],
      "execution_count": 18,
      "outputs": [
        {
          "output_type": "execute_result",
          "data": {
            "text/html": [
              "<div>\n",
              "<style scoped>\n",
              "    .dataframe tbody tr th:only-of-type {\n",
              "        vertical-align: middle;\n",
              "    }\n",
              "\n",
              "    .dataframe tbody tr th {\n",
              "        vertical-align: top;\n",
              "    }\n",
              "\n",
              "    .dataframe thead th {\n",
              "        text-align: right;\n",
              "    }\n",
              "</style>\n",
              "<table border=\"1\" class=\"dataframe\">\n",
              "  <thead>\n",
              "    <tr style=\"text-align: right;\">\n",
              "      <th></th>\n",
              "      <th>gender</th>\n",
              "      <th>SeniorCitizen</th>\n",
              "      <th>Partner</th>\n",
              "      <th>Dependents</th>\n",
              "      <th>tenure</th>\n",
              "      <th>PhoneService</th>\n",
              "      <th>MultipleLines</th>\n",
              "      <th>OnlineSecurity</th>\n",
              "      <th>OnlineBackup</th>\n",
              "      <th>DeviceProtection</th>\n",
              "      <th>TechSupport</th>\n",
              "      <th>StreamingTV</th>\n",
              "      <th>StreamingMovies</th>\n",
              "      <th>PaperlessBilling</th>\n",
              "      <th>MonthlyCharges</th>\n",
              "      <th>TotalCharges</th>\n",
              "      <th>Churn</th>\n",
              "      <th>InternetService_DSL</th>\n",
              "      <th>InternetService_Fiber optic</th>\n",
              "      <th>InternetService_No</th>\n",
              "      <th>Contract_Month-to-month</th>\n",
              "      <th>Contract_One year</th>\n",
              "      <th>Contract_Two year</th>\n",
              "      <th>PaymentMethod_Bank transfer (automatic)</th>\n",
              "      <th>PaymentMethod_Credit card (automatic)</th>\n",
              "      <th>PaymentMethod_Electronic check</th>\n",
              "      <th>PaymentMethod_Mailed check</th>\n",
              "    </tr>\n",
              "  </thead>\n",
              "  <tbody>\n",
              "    <tr>\n",
              "      <th>0</th>\n",
              "      <td>0</td>\n",
              "      <td>0</td>\n",
              "      <td>1</td>\n",
              "      <td>0</td>\n",
              "      <td>1</td>\n",
              "      <td>0</td>\n",
              "      <td>0</td>\n",
              "      <td>0</td>\n",
              "      <td>1</td>\n",
              "      <td>0</td>\n",
              "      <td>0</td>\n",
              "      <td>0</td>\n",
              "      <td>0</td>\n",
              "      <td>1</td>\n",
              "      <td>29.85</td>\n",
              "      <td>29.85</td>\n",
              "      <td>0</td>\n",
              "      <td>1</td>\n",
              "      <td>0</td>\n",
              "      <td>0</td>\n",
              "      <td>1</td>\n",
              "      <td>0</td>\n",
              "      <td>0</td>\n",
              "      <td>0</td>\n",
              "      <td>0</td>\n",
              "      <td>1</td>\n",
              "      <td>0</td>\n",
              "    </tr>\n",
              "    <tr>\n",
              "      <th>1</th>\n",
              "      <td>1</td>\n",
              "      <td>0</td>\n",
              "      <td>0</td>\n",
              "      <td>0</td>\n",
              "      <td>34</td>\n",
              "      <td>1</td>\n",
              "      <td>0</td>\n",
              "      <td>1</td>\n",
              "      <td>0</td>\n",
              "      <td>1</td>\n",
              "      <td>0</td>\n",
              "      <td>0</td>\n",
              "      <td>0</td>\n",
              "      <td>0</td>\n",
              "      <td>56.95</td>\n",
              "      <td>1889.50</td>\n",
              "      <td>0</td>\n",
              "      <td>1</td>\n",
              "      <td>0</td>\n",
              "      <td>0</td>\n",
              "      <td>0</td>\n",
              "      <td>1</td>\n",
              "      <td>0</td>\n",
              "      <td>0</td>\n",
              "      <td>0</td>\n",
              "      <td>0</td>\n",
              "      <td>1</td>\n",
              "    </tr>\n",
              "    <tr>\n",
              "      <th>2</th>\n",
              "      <td>1</td>\n",
              "      <td>0</td>\n",
              "      <td>0</td>\n",
              "      <td>0</td>\n",
              "      <td>2</td>\n",
              "      <td>1</td>\n",
              "      <td>0</td>\n",
              "      <td>1</td>\n",
              "      <td>1</td>\n",
              "      <td>0</td>\n",
              "      <td>0</td>\n",
              "      <td>0</td>\n",
              "      <td>0</td>\n",
              "      <td>1</td>\n",
              "      <td>53.85</td>\n",
              "      <td>108.15</td>\n",
              "      <td>1</td>\n",
              "      <td>1</td>\n",
              "      <td>0</td>\n",
              "      <td>0</td>\n",
              "      <td>1</td>\n",
              "      <td>0</td>\n",
              "      <td>0</td>\n",
              "      <td>0</td>\n",
              "      <td>0</td>\n",
              "      <td>0</td>\n",
              "      <td>1</td>\n",
              "    </tr>\n",
              "    <tr>\n",
              "      <th>3</th>\n",
              "      <td>1</td>\n",
              "      <td>0</td>\n",
              "      <td>0</td>\n",
              "      <td>0</td>\n",
              "      <td>45</td>\n",
              "      <td>0</td>\n",
              "      <td>0</td>\n",
              "      <td>1</td>\n",
              "      <td>0</td>\n",
              "      <td>1</td>\n",
              "      <td>1</td>\n",
              "      <td>0</td>\n",
              "      <td>0</td>\n",
              "      <td>0</td>\n",
              "      <td>42.30</td>\n",
              "      <td>1840.75</td>\n",
              "      <td>0</td>\n",
              "      <td>1</td>\n",
              "      <td>0</td>\n",
              "      <td>0</td>\n",
              "      <td>0</td>\n",
              "      <td>1</td>\n",
              "      <td>0</td>\n",
              "      <td>1</td>\n",
              "      <td>0</td>\n",
              "      <td>0</td>\n",
              "      <td>0</td>\n",
              "    </tr>\n",
              "    <tr>\n",
              "      <th>4</th>\n",
              "      <td>0</td>\n",
              "      <td>0</td>\n",
              "      <td>0</td>\n",
              "      <td>0</td>\n",
              "      <td>2</td>\n",
              "      <td>1</td>\n",
              "      <td>0</td>\n",
              "      <td>0</td>\n",
              "      <td>0</td>\n",
              "      <td>0</td>\n",
              "      <td>0</td>\n",
              "      <td>0</td>\n",
              "      <td>0</td>\n",
              "      <td>1</td>\n",
              "      <td>70.70</td>\n",
              "      <td>151.65</td>\n",
              "      <td>1</td>\n",
              "      <td>0</td>\n",
              "      <td>1</td>\n",
              "      <td>0</td>\n",
              "      <td>1</td>\n",
              "      <td>0</td>\n",
              "      <td>0</td>\n",
              "      <td>0</td>\n",
              "      <td>0</td>\n",
              "      <td>1</td>\n",
              "      <td>0</td>\n",
              "    </tr>\n",
              "  </tbody>\n",
              "</table>\n",
              "</div>"
            ],
            "text/plain": [
              "   gender  ...  PaymentMethod_Mailed check\n",
              "0       0  ...                           0\n",
              "1       1  ...                           1\n",
              "2       1  ...                           1\n",
              "3       1  ...                           0\n",
              "4       0  ...                           0\n",
              "\n",
              "[5 rows x 27 columns]"
            ]
          },
          "metadata": {
            "tags": []
          },
          "execution_count": 18
        }
      ]
    },
    {
      "cell_type": "code",
      "metadata": {
        "colab": {
          "base_uri": "https://localhost:8080/"
        },
        "id": "soXop51xKi8k",
        "outputId": "ab62d3d2-c113-46fc-83c4-6a9cd47ab031"
      },
      "source": [
        "df2.dtypes"
      ],
      "execution_count": 19,
      "outputs": [
        {
          "output_type": "execute_result",
          "data": {
            "text/plain": [
              "gender                                       int64\n",
              "SeniorCitizen                                int64\n",
              "Partner                                      int64\n",
              "Dependents                                   int64\n",
              "tenure                                       int64\n",
              "PhoneService                                 int64\n",
              "MultipleLines                                int64\n",
              "OnlineSecurity                               int64\n",
              "OnlineBackup                                 int64\n",
              "DeviceProtection                             int64\n",
              "TechSupport                                  int64\n",
              "StreamingTV                                  int64\n",
              "StreamingMovies                              int64\n",
              "PaperlessBilling                             int64\n",
              "MonthlyCharges                             float64\n",
              "TotalCharges                               float64\n",
              "Churn                                        int64\n",
              "InternetService_DSL                          uint8\n",
              "InternetService_Fiber optic                  uint8\n",
              "InternetService_No                           uint8\n",
              "Contract_Month-to-month                      uint8\n",
              "Contract_One year                            uint8\n",
              "Contract_Two year                            uint8\n",
              "PaymentMethod_Bank transfer (automatic)      uint8\n",
              "PaymentMethod_Credit card (automatic)        uint8\n",
              "PaymentMethod_Electronic check               uint8\n",
              "PaymentMethod_Mailed check                   uint8\n",
              "dtype: object"
            ]
          },
          "metadata": {
            "tags": []
          },
          "execution_count": 19
        }
      ]
    },
    {
      "cell_type": "code",
      "metadata": {
        "id": "Hwm0jTwLK4Ok"
      },
      "source": [
        "cols_to_scale = ['tenure', 'MonthlyCharges', 'TotalCharges']\n",
        "\n",
        "from sklearn.preprocessing import MinMaxScaler\n",
        "scaler = MinMaxScaler()\n",
        "df2[cols_to_scale] = scaler.fit_transform(df2[cols_to_scale])"
      ],
      "execution_count": 20,
      "outputs": []
    },
    {
      "cell_type": "code",
      "metadata": {
        "colab": {
          "base_uri": "https://localhost:8080/"
        },
        "id": "2io30U1fLmDt",
        "outputId": "d86d6402-20d3-4842-d4cd-3abf9954018c"
      },
      "source": [
        "for col in df2:\n",
        "  print(f'{col} : {df2[col].unique() } ' )"
      ],
      "execution_count": 21,
      "outputs": [
        {
          "output_type": "stream",
          "text": [
            "gender : [0 1] \n",
            "SeniorCitizen : [0 1] \n",
            "Partner : [1 0] \n",
            "Dependents : [0 1] \n",
            "tenure : [0.         0.46478873 0.01408451 0.61971831 0.09859155 0.29577465\n",
            " 0.12676056 0.38028169 0.85915493 0.16901408 0.21126761 0.8028169\n",
            " 0.67605634 0.33802817 0.95774648 0.71830986 0.98591549 0.28169014\n",
            " 0.15492958 0.4084507  0.64788732 1.         0.22535211 0.36619718\n",
            " 0.05633803 0.63380282 0.14084507 0.97183099 0.87323944 0.5915493\n",
            " 0.1971831  0.83098592 0.23943662 0.91549296 0.11267606 0.02816901\n",
            " 0.42253521 0.69014085 0.88732394 0.77464789 0.08450704 0.57746479\n",
            " 0.47887324 0.66197183 0.3943662  0.90140845 0.52112676 0.94366197\n",
            " 0.43661972 0.76056338 0.50704225 0.49295775 0.56338028 0.07042254\n",
            " 0.04225352 0.45070423 0.92957746 0.30985915 0.78873239 0.84507042\n",
            " 0.18309859 0.26760563 0.73239437 0.54929577 0.81690141 0.32394366\n",
            " 0.6056338  0.25352113 0.74647887 0.70422535 0.35211268 0.53521127] \n",
            "PhoneService : [0 1] \n",
            "MultipleLines : [0 1] \n",
            "OnlineSecurity : [0 1] \n",
            "OnlineBackup : [1 0] \n",
            "DeviceProtection : [0 1] \n",
            "TechSupport : [0 1] \n",
            "StreamingTV : [0 1] \n",
            "StreamingMovies : [0 1] \n",
            "PaperlessBilling : [1 0] \n",
            "MonthlyCharges : [0.11542289 0.38507463 0.35422886 ... 0.44626866 0.25820896 0.60149254] \n",
            "TotalCharges : [0.0012751  0.21586661 0.01031041 ... 0.03780868 0.03321025 0.78764136] \n",
            "Churn : [0 1] \n",
            "InternetService_DSL : [1 0] \n",
            "InternetService_Fiber optic : [0 1] \n",
            "InternetService_No : [0 1] \n",
            "Contract_Month-to-month : [1 0] \n",
            "Contract_One year : [0 1] \n",
            "Contract_Two year : [0 1] \n",
            "PaymentMethod_Bank transfer (automatic) : [0 1] \n",
            "PaymentMethod_Credit card (automatic) : [0 1] \n",
            "PaymentMethod_Electronic check : [1 0] \n",
            "PaymentMethod_Mailed check : [0 1] \n"
          ],
          "name": "stdout"
        }
      ]
    },
    {
      "cell_type": "code",
      "metadata": {
        "id": "6LGprUVYLyWL"
      },
      "source": [
        "X = df2.drop(\"Churn\", axis='columns')\n",
        "y = df2.Churn \n",
        "\n",
        "from sklearn.model_selection import train_test_split\n",
        "X_train, X_test, y_train, y_test = train_test_split(X, y, test_size=0.2, random_state=5)"
      ],
      "execution_count": 22,
      "outputs": []
    },
    {
      "cell_type": "code",
      "metadata": {
        "colab": {
          "base_uri": "https://localhost:8080/"
        },
        "id": "Do2asNi6LycO",
        "outputId": "6ad71274-f0ba-4618-8d7f-e7043f7b71ea"
      },
      "source": [
        "X_train.shape"
      ],
      "execution_count": 23,
      "outputs": [
        {
          "output_type": "execute_result",
          "data": {
            "text/plain": [
              "(5625, 26)"
            ]
          },
          "metadata": {
            "tags": []
          },
          "execution_count": 23
        }
      ]
    },
    {
      "cell_type": "code",
      "metadata": {
        "colab": {
          "base_uri": "https://localhost:8080/"
        },
        "id": "-u3rYpxRMOuL",
        "outputId": "59c7fe0c-71cf-4d8a-8ffc-fa7fb1e5ffcf"
      },
      "source": [
        "# input shape equals to the number of  columns\n",
        "model = keras.Sequential([\n",
        "    keras.layers.Dense(26, input_shape=(26,), activation='relu'),\n",
        "    keras.layers.Dense(20, activation='relu'),\n",
        "    keras.layers.Dense(15, activation='relu'),\n",
        "    keras.layers.Dense(1, activation='sigmoid')\n",
        "])\n",
        "\n",
        "# tf.keras.optimizers.Adam(\n",
        "#     learning_rate=0.001, beta_1=0.9, beta_2=0.999, epsilon=1e-07, amsgrad=False,\n",
        "#     name='Adam', **kwargs\n",
        "# )\n",
        "opt = tf.keras.optimizers.Adam(learning_rate=0.001)\n",
        "\n",
        "model.compile(optimizer=opt, loss='binary_crossentropy', metrics=['accuracy'])\n",
        "model.fit(X_train, y_train, epochs=100)"
      ],
      "execution_count": 24,
      "outputs": [
        {
          "output_type": "stream",
          "text": [
            "Epoch 1/100\n",
            "176/176 [==============================] - 1s 938us/step - loss: 0.5151 - accuracy: 0.7493\n",
            "Epoch 2/100\n",
            "176/176 [==============================] - 0s 984us/step - loss: 0.4361 - accuracy: 0.7908\n",
            "Epoch 3/100\n",
            "176/176 [==============================] - 0s 1ms/step - loss: 0.4256 - accuracy: 0.7952\n",
            "Epoch 4/100\n",
            "176/176 [==============================] - 0s 1ms/step - loss: 0.4205 - accuracy: 0.7966\n",
            "Epoch 5/100\n",
            "176/176 [==============================] - 0s 1ms/step - loss: 0.4184 - accuracy: 0.8041\n",
            "Epoch 6/100\n",
            "176/176 [==============================] - 0s 1ms/step - loss: 0.4158 - accuracy: 0.8027\n",
            "Epoch 7/100\n",
            "176/176 [==============================] - 0s 1ms/step - loss: 0.4128 - accuracy: 0.8080\n",
            "Epoch 8/100\n",
            "176/176 [==============================] - 0s 1ms/step - loss: 0.4112 - accuracy: 0.8020\n",
            "Epoch 9/100\n",
            "176/176 [==============================] - 0s 1ms/step - loss: 0.4098 - accuracy: 0.8064\n",
            "Epoch 10/100\n",
            "176/176 [==============================] - 0s 1ms/step - loss: 0.4074 - accuracy: 0.8103\n",
            "Epoch 11/100\n",
            "176/176 [==============================] - 0s 1ms/step - loss: 0.4062 - accuracy: 0.8137\n",
            "Epoch 12/100\n",
            "176/176 [==============================] - 0s 919us/step - loss: 0.4055 - accuracy: 0.8123\n",
            "Epoch 13/100\n",
            "176/176 [==============================] - 0s 962us/step - loss: 0.4030 - accuracy: 0.8119\n",
            "Epoch 14/100\n",
            "176/176 [==============================] - 0s 1ms/step - loss: 0.4029 - accuracy: 0.8130\n",
            "Epoch 15/100\n",
            "176/176 [==============================] - 0s 1ms/step - loss: 0.4010 - accuracy: 0.8140\n",
            "Epoch 16/100\n",
            "176/176 [==============================] - 0s 1ms/step - loss: 0.4000 - accuracy: 0.8128\n",
            "Epoch 17/100\n",
            "176/176 [==============================] - 0s 1ms/step - loss: 0.3995 - accuracy: 0.8142\n",
            "Epoch 18/100\n",
            "176/176 [==============================] - 0s 1ms/step - loss: 0.3983 - accuracy: 0.8155\n",
            "Epoch 19/100\n",
            "176/176 [==============================] - 0s 1ms/step - loss: 0.3964 - accuracy: 0.8128\n",
            "Epoch 20/100\n",
            "176/176 [==============================] - 0s 981us/step - loss: 0.3959 - accuracy: 0.8164\n",
            "Epoch 21/100\n",
            "176/176 [==============================] - 0s 1ms/step - loss: 0.3930 - accuracy: 0.8192\n",
            "Epoch 22/100\n",
            "176/176 [==============================] - 0s 1ms/step - loss: 0.3942 - accuracy: 0.8153\n",
            "Epoch 23/100\n",
            "176/176 [==============================] - 0s 1ms/step - loss: 0.3934 - accuracy: 0.8208\n",
            "Epoch 24/100\n",
            "176/176 [==============================] - 0s 1ms/step - loss: 0.3926 - accuracy: 0.8187\n",
            "Epoch 25/100\n",
            "176/176 [==============================] - 0s 1ms/step - loss: 0.3887 - accuracy: 0.8190\n",
            "Epoch 26/100\n",
            "176/176 [==============================] - 0s 1ms/step - loss: 0.3881 - accuracy: 0.8220\n",
            "Epoch 27/100\n",
            "176/176 [==============================] - 0s 1ms/step - loss: 0.3862 - accuracy: 0.8229\n",
            "Epoch 28/100\n",
            "176/176 [==============================] - 0s 1ms/step - loss: 0.3869 - accuracy: 0.8201\n",
            "Epoch 29/100\n",
            "176/176 [==============================] - 0s 1ms/step - loss: 0.3845 - accuracy: 0.8228\n",
            "Epoch 30/100\n",
            "176/176 [==============================] - 0s 1ms/step - loss: 0.3839 - accuracy: 0.8210\n",
            "Epoch 31/100\n",
            "176/176 [==============================] - 0s 1ms/step - loss: 0.3838 - accuracy: 0.8210\n",
            "Epoch 32/100\n",
            "176/176 [==============================] - 0s 1ms/step - loss: 0.3817 - accuracy: 0.8210\n",
            "Epoch 33/100\n",
            "176/176 [==============================] - 0s 988us/step - loss: 0.3813 - accuracy: 0.8188\n",
            "Epoch 34/100\n",
            "176/176 [==============================] - 0s 1ms/step - loss: 0.3781 - accuracy: 0.8229\n",
            "Epoch 35/100\n",
            "176/176 [==============================] - 0s 1ms/step - loss: 0.3781 - accuracy: 0.8235\n",
            "Epoch 36/100\n",
            "176/176 [==============================] - 0s 974us/step - loss: 0.3776 - accuracy: 0.8210\n",
            "Epoch 37/100\n",
            "176/176 [==============================] - 0s 1ms/step - loss: 0.3759 - accuracy: 0.8263\n",
            "Epoch 38/100\n",
            "176/176 [==============================] - 0s 1ms/step - loss: 0.3750 - accuracy: 0.8251\n",
            "Epoch 39/100\n",
            "176/176 [==============================] - 0s 1ms/step - loss: 0.3729 - accuracy: 0.8263\n",
            "Epoch 40/100\n",
            "176/176 [==============================] - 0s 995us/step - loss: 0.3725 - accuracy: 0.8229\n",
            "Epoch 41/100\n",
            "176/176 [==============================] - 0s 1ms/step - loss: 0.3714 - accuracy: 0.8267\n",
            "Epoch 42/100\n",
            "176/176 [==============================] - 0s 1ms/step - loss: 0.3727 - accuracy: 0.8270\n",
            "Epoch 43/100\n",
            "176/176 [==============================] - 0s 1ms/step - loss: 0.3706 - accuracy: 0.8224\n",
            "Epoch 44/100\n",
            "176/176 [==============================] - 0s 1ms/step - loss: 0.3692 - accuracy: 0.8277\n",
            "Epoch 45/100\n",
            "176/176 [==============================] - 0s 1ms/step - loss: 0.3674 - accuracy: 0.8281\n",
            "Epoch 46/100\n",
            "176/176 [==============================] - 0s 992us/step - loss: 0.3672 - accuracy: 0.8263\n",
            "Epoch 47/100\n",
            "176/176 [==============================] - 0s 1ms/step - loss: 0.3667 - accuracy: 0.8284\n",
            "Epoch 48/100\n",
            "176/176 [==============================] - 0s 1ms/step - loss: 0.3665 - accuracy: 0.8283\n",
            "Epoch 49/100\n",
            "176/176 [==============================] - 0s 1ms/step - loss: 0.3666 - accuracy: 0.8281\n",
            "Epoch 50/100\n",
            "176/176 [==============================] - 0s 1ms/step - loss: 0.3648 - accuracy: 0.8281\n",
            "Epoch 51/100\n",
            "176/176 [==============================] - 0s 1ms/step - loss: 0.3628 - accuracy: 0.8292\n",
            "Epoch 52/100\n",
            "176/176 [==============================] - 0s 1ms/step - loss: 0.3622 - accuracy: 0.8302\n",
            "Epoch 53/100\n",
            "176/176 [==============================] - 0s 1ms/step - loss: 0.3598 - accuracy: 0.8292\n",
            "Epoch 54/100\n",
            "176/176 [==============================] - 0s 1ms/step - loss: 0.3607 - accuracy: 0.8306\n",
            "Epoch 55/100\n",
            "176/176 [==============================] - 0s 973us/step - loss: 0.3604 - accuracy: 0.8286\n",
            "Epoch 56/100\n",
            "176/176 [==============================] - 0s 1ms/step - loss: 0.3570 - accuracy: 0.8322\n",
            "Epoch 57/100\n",
            "176/176 [==============================] - 0s 1ms/step - loss: 0.3562 - accuracy: 0.8332\n",
            "Epoch 58/100\n",
            "176/176 [==============================] - 0s 1ms/step - loss: 0.3559 - accuracy: 0.8336\n",
            "Epoch 59/100\n",
            "176/176 [==============================] - 0s 1ms/step - loss: 0.3567 - accuracy: 0.8320\n",
            "Epoch 60/100\n",
            "176/176 [==============================] - 0s 1ms/step - loss: 0.3541 - accuracy: 0.8325\n",
            "Epoch 61/100\n",
            "176/176 [==============================] - 0s 1ms/step - loss: 0.3568 - accuracy: 0.8329\n",
            "Epoch 62/100\n",
            "176/176 [==============================] - 0s 1ms/step - loss: 0.3537 - accuracy: 0.8336\n",
            "Epoch 63/100\n",
            "176/176 [==============================] - 0s 986us/step - loss: 0.3533 - accuracy: 0.8336\n",
            "Epoch 64/100\n",
            "176/176 [==============================] - 0s 1ms/step - loss: 0.3528 - accuracy: 0.8338\n",
            "Epoch 65/100\n",
            "176/176 [==============================] - 0s 1ms/step - loss: 0.3518 - accuracy: 0.8318\n",
            "Epoch 66/100\n",
            "176/176 [==============================] - 0s 1ms/step - loss: 0.3506 - accuracy: 0.8354\n",
            "Epoch 67/100\n",
            "176/176 [==============================] - 0s 1ms/step - loss: 0.3488 - accuracy: 0.8327\n",
            "Epoch 68/100\n",
            "176/176 [==============================] - 0s 1ms/step - loss: 0.3483 - accuracy: 0.8368\n",
            "Epoch 69/100\n",
            "176/176 [==============================] - 0s 1ms/step - loss: 0.3476 - accuracy: 0.8395\n",
            "Epoch 70/100\n",
            "176/176 [==============================] - 0s 1ms/step - loss: 0.3475 - accuracy: 0.8350\n",
            "Epoch 71/100\n",
            "176/176 [==============================] - 0s 1ms/step - loss: 0.3455 - accuracy: 0.8375\n",
            "Epoch 72/100\n",
            "176/176 [==============================] - 0s 1ms/step - loss: 0.3465 - accuracy: 0.8389\n",
            "Epoch 73/100\n",
            "176/176 [==============================] - 0s 1ms/step - loss: 0.3439 - accuracy: 0.8384\n",
            "Epoch 74/100\n",
            "176/176 [==============================] - 0s 1ms/step - loss: 0.3444 - accuracy: 0.8405\n",
            "Epoch 75/100\n",
            "176/176 [==============================] - 0s 1ms/step - loss: 0.3412 - accuracy: 0.8416\n",
            "Epoch 76/100\n",
            "176/176 [==============================] - 0s 1ms/step - loss: 0.3419 - accuracy: 0.8393\n",
            "Epoch 77/100\n",
            "176/176 [==============================] - 0s 1ms/step - loss: 0.3400 - accuracy: 0.8380\n",
            "Epoch 78/100\n",
            "176/176 [==============================] - 0s 1ms/step - loss: 0.3414 - accuracy: 0.8389\n",
            "Epoch 79/100\n",
            "176/176 [==============================] - 0s 1ms/step - loss: 0.3414 - accuracy: 0.8395\n",
            "Epoch 80/100\n",
            "176/176 [==============================] - 0s 1ms/step - loss: 0.3405 - accuracy: 0.8420\n",
            "Epoch 81/100\n",
            "176/176 [==============================] - 0s 1ms/step - loss: 0.3383 - accuracy: 0.8393\n",
            "Epoch 82/100\n",
            "176/176 [==============================] - 0s 1ms/step - loss: 0.3362 - accuracy: 0.8396\n",
            "Epoch 83/100\n",
            "176/176 [==============================] - 0s 1ms/step - loss: 0.3370 - accuracy: 0.8437\n",
            "Epoch 84/100\n",
            "176/176 [==============================] - 0s 1ms/step - loss: 0.3357 - accuracy: 0.8405\n",
            "Epoch 85/100\n",
            "176/176 [==============================] - 0s 1ms/step - loss: 0.3389 - accuracy: 0.8404\n",
            "Epoch 86/100\n",
            "176/176 [==============================] - 0s 1ms/step - loss: 0.3343 - accuracy: 0.8388\n",
            "Epoch 87/100\n",
            "176/176 [==============================] - 0s 999us/step - loss: 0.3353 - accuracy: 0.8414\n",
            "Epoch 88/100\n",
            "176/176 [==============================] - 0s 1ms/step - loss: 0.3339 - accuracy: 0.8428\n",
            "Epoch 89/100\n",
            "176/176 [==============================] - 0s 1ms/step - loss: 0.3346 - accuracy: 0.8389\n",
            "Epoch 90/100\n",
            "176/176 [==============================] - 0s 1ms/step - loss: 0.3311 - accuracy: 0.8421\n",
            "Epoch 91/100\n",
            "176/176 [==============================] - 0s 1ms/step - loss: 0.3313 - accuracy: 0.8450\n",
            "Epoch 92/100\n",
            "176/176 [==============================] - 0s 1ms/step - loss: 0.3311 - accuracy: 0.8452\n",
            "Epoch 93/100\n",
            "176/176 [==============================] - 0s 1ms/step - loss: 0.3323 - accuracy: 0.8480\n",
            "Epoch 94/100\n",
            "176/176 [==============================] - 0s 951us/step - loss: 0.3320 - accuracy: 0.8473\n",
            "Epoch 95/100\n",
            "176/176 [==============================] - 0s 1ms/step - loss: 0.3289 - accuracy: 0.8459\n",
            "Epoch 96/100\n",
            "176/176 [==============================] - 0s 1ms/step - loss: 0.3294 - accuracy: 0.8446\n",
            "Epoch 97/100\n",
            "176/176 [==============================] - 0s 1ms/step - loss: 0.3267 - accuracy: 0.8473\n",
            "Epoch 98/100\n",
            "176/176 [==============================] - 0s 1ms/step - loss: 0.3263 - accuracy: 0.8478\n",
            "Epoch 99/100\n",
            "176/176 [==============================] - 0s 1ms/step - loss: 0.3275 - accuracy: 0.8464\n",
            "Epoch 100/100\n",
            "176/176 [==============================] - 0s 981us/step - loss: 0.3262 - accuracy: 0.8460\n"
          ],
          "name": "stdout"
        },
        {
          "output_type": "execute_result",
          "data": {
            "text/plain": [
              "<tensorflow.python.keras.callbacks.History at 0x7fbae8269ed0>"
            ]
          },
          "metadata": {
            "tags": []
          },
          "execution_count": 24
        }
      ]
    },
    {
      "cell_type": "code",
      "metadata": {
        "colab": {
          "base_uri": "https://localhost:8080/"
        },
        "id": "4KcgM2GPQR_k",
        "outputId": "aaee5ae8-0282-4d1d-f39b-5ef3be1fcdca"
      },
      "source": [
        "model.evaluate(X_test, y_test)"
      ],
      "execution_count": 25,
      "outputs": [
        {
          "output_type": "stream",
          "text": [
            "44/44 [==============================] - 0s 698us/step - loss: 0.5721 - accuracy: 0.7576\n"
          ],
          "name": "stdout"
        },
        {
          "output_type": "execute_result",
          "data": {
            "text/plain": [
              "[0.5721433162689209, 0.7576403617858887]"
            ]
          },
          "metadata": {
            "tags": []
          },
          "execution_count": 25
        }
      ]
    },
    {
      "cell_type": "code",
      "metadata": {
        "colab": {
          "base_uri": "https://localhost:8080/"
        },
        "id": "oIWhUDrWQkqb",
        "outputId": "71229082-84c2-47fd-cec7-534efc78c0bb"
      },
      "source": [
        "yp = model.predict(X_test)\n",
        "yp"
      ],
      "execution_count": 26,
      "outputs": [
        {
          "output_type": "execute_result",
          "data": {
            "text/plain": [
              "array([[3.4206003e-01],\n",
              "       [4.0607506e-01],\n",
              "       [2.2100503e-06],\n",
              "       ...,\n",
              "       [6.0551578e-01],\n",
              "       [5.8543181e-01],\n",
              "       [7.0254683e-01]], dtype=float32)"
            ]
          },
          "metadata": {
            "tags": []
          },
          "execution_count": 26
        }
      ]
    },
    {
      "cell_type": "code",
      "metadata": {
        "id": "Mv6OmBArQqBH"
      },
      "source": [
        "y_pred = []\n",
        "for ele in yp:\n",
        "  if ele >= 0.5:\n",
        "    y_pred.append(1)\n",
        "  else:\n",
        "    y_pred.append(0)"
      ],
      "execution_count": 27,
      "outputs": []
    },
    {
      "cell_type": "code",
      "metadata": {
        "colab": {
          "base_uri": "https://localhost:8080/"
        },
        "id": "dBybHX3-QqDo",
        "outputId": "08beef38-15ef-4a8e-f234-8833171d2dc8"
      },
      "source": [
        "from sklearn.metrics import confusion_matrix, classification_report \n",
        "print(classification_report(y_test, y_pred))"
      ],
      "execution_count": 28,
      "outputs": [
        {
          "output_type": "stream",
          "text": [
            "              precision    recall  f1-score   support\n",
            "\n",
            "           0       0.78      0.91      0.84       999\n",
            "           1       0.64      0.38      0.48       408\n",
            "\n",
            "    accuracy                           0.76      1407\n",
            "   macro avg       0.71      0.65      0.66      1407\n",
            "weighted avg       0.74      0.76      0.74      1407\n",
            "\n"
          ],
          "name": "stdout"
        }
      ]
    },
    {
      "cell_type": "code",
      "metadata": {
        "colab": {
          "base_uri": "https://localhost:8080/",
          "height": 352
        },
        "id": "iSEmmDZVQ-kw",
        "outputId": "94c9325f-ec42-481f-b8ef-c2ccf2a84315"
      },
      "source": [
        "import seaborn as sn \n",
        "cm = tf.math.confusion_matrix(labels=y_test, predictions=y_pred)\n",
        "# plt.figure\n",
        "plt.figure(figsize = (10,5))\n",
        "\n",
        "sn.heatmap(cm, annot=True, fmt='d')\n",
        "plt.xlabel('Predicted')\n",
        "plt.ylabel('Truth')"
      ],
      "execution_count": 29,
      "outputs": [
        {
          "output_type": "execute_result",
          "data": {
            "text/plain": [
              "Text(69.0, 0.5, 'Truth')"
            ]
          },
          "metadata": {
            "tags": []
          },
          "execution_count": 29
        },
        {
          "output_type": "display_data",
          "data": {
            "image/png": "[encoded data removed]",
            "text/plain": [
              "<Figure size 720x360 with 2 Axes>"
            ]
          },
          "metadata": {
            "tags": [],
            "needs_background": "light"
          }
        }
      ]
    },
    {
      "cell_type": "code",
      "metadata": {
        "colab": {
          "base_uri": "https://localhost:8080/"
        },
        "id": "doxucxhhQ-nD",
        "outputId": "883a3961-233e-43f5-b322-c4ad4f22728e"
      },
      "source": [
        "print(\"The number of classification report\")\n",
        "# Accuracy\n",
        "print(round((821+237)/(821+178+171+237), 2))\n",
        "# Precision for 0 class \n",
        "print(round(821/(821+171), 2))\n",
        "# Precision for 1 class \n",
        "print(round(229/(229+137), 2))\n",
        "# Recall fo 0 class \n",
        "print(round(821/(821+178), 2))\n",
        "# Recall for 1 class \n",
        "print(round(237/(171+237), 2))\n"
      ],
      "execution_count": 30,
      "outputs": [
        {
          "output_type": "stream",
          "text": [
            "The number of classification report\n",
            "0.75\n",
            "0.83\n",
            "0.63\n",
            "0.82\n",
            "0.58\n"
          ],
          "name": "stdout"
        }
      ]
    },
    {
      "cell_type": "markdown",
      "metadata": {
        "id": "zNQ6Yya3T3l6"
      },
      "source": [
        "# handle imbalanced dataset"
      ]
    },
    {
      "cell_type": "code",
      "metadata": {
        "id": "fxs68soxT2pl"
      },
      "source": [
        "def ANN(X_train, y_train, X_test, y_test, loss, weights):\n",
        "    # input shape equals to the number of  columns\n",
        "    model = keras.Sequential([\n",
        "        keras.layers.Dense(26, input_shape=(26,), activation='relu'),\n",
        "        keras.layers.Dense(20, activation='relu'),\n",
        "        keras.layers.Dense(15, activation='relu'),\n",
        "        keras.layers.Dense(1, activation='sigmoid')\n",
        "    ])\n",
        "\n",
        "    opt = tf.keras.optimizers.Adam(learning_rate=0.001)\n",
        "    model.compile(optimizer=opt, loss='binary_crossentropy', metrics=['accuracy'])\n",
        "    if weights == -1:\n",
        "      model.fit(X_train, y_train, epochs=100)\n",
        "    else:\n",
        "      model.fit(X_train, y_train, epochs=100, class_weight=weights)\n",
        "\n",
        "    print(model.evaluate(X_test, y_test))\n",
        "\n",
        "    y_preds = model.predict(X_test)\n",
        "    y_preds = np.round(y_preds)\n",
        "\n",
        "    print(\"Classification Report: \\n\", classification_report(y_test, y_preds))\n",
        "\n",
        "    return y_preds\n",
        "\n"
      ],
      "execution_count": 39,
      "outputs": []
    },
    {
      "cell_type": "markdown",
      "metadata": {
        "id": "gDCUHMQpVGOP"
      },
      "source": [
        "# Method 1: Undersampling"
      ]
    },
    {
      "cell_type": "code",
      "metadata": {
        "id": "nzjnpKJNVBiW"
      },
      "source": [
        "count_class_0, count_class_1 = df1.Churn.value_counts()\n",
        "df_class_0 = df2[df2['Churn'] == 0]\n",
        "df_class_1 = df2[df2['Churn'] == 1]"
      ],
      "execution_count": 40,
      "outputs": []
    },
    {
      "cell_type": "code",
      "metadata": {
        "id": "NmejK6fbVjyF"
      },
      "source": [
        "df_class_0_under = df_class_0.sample(count_class_1)\n",
        "df_test_undersampling = pd.concat([df_class_0_under, df_class_1], axis=0)\n",
        "X = df_test_undersampling.drop('Churn',axis='columns')\n",
        "y = df_test_undersampling['Churn']\n",
        "\n",
        "from sklearn.model_selection import train_test_split\n",
        "X_train, X_test, y_train, y_test = train_test_split(X, y, test_size=0.2, random_state=15, stratify=y)"
      ],
      "execution_count": 41,
      "outputs": []
    },
    {
      "cell_type": "code",
      "metadata": {
        "colab": {
          "base_uri": "https://localhost:8080/"
        },
        "id": "tCqVCuIbVj3N",
        "outputId": "1b342166-4df9-45c4-947a-ac5d35c7e53b"
      },
      "source": [
        "y_preds = ANN(X_train, y_train, X_test, y_test, 'binary_crossentropy', -1)"
      ],
      "execution_count": 43,
      "outputs": [
        {
          "output_type": "stream",
          "text": [
            "94/94 [==============================] - 0s 1ms/step - loss: 0.3368 - accuracy: 0.8478\n",
            "Epoch 87/100\n",
            "94/94 [==============================] - 0s 1ms/step - loss: 0.3371 - accuracy: 0.8492\n",
            "Epoch 88/100\n",
            "94/94 [==============================] - 0s 975us/step - loss: 0.3343 - accuracy: 0.8458\n",
            "Epoch 89/100\n",
            "94/94 [==============================] - 0s 1ms/step - loss: 0.3311 - accuracy: 0.8508\n",
            "Epoch 90/100\n",
            "94/94 [==============================] - 0s 1ms/step - loss: 0.3326 - accuracy: 0.8502\n",
            "Epoch 91/100\n",
            "94/94 [==============================] - 0s 977us/step - loss: 0.3316 - accuracy: 0.8515\n",
            "Epoch 92/100\n",
            "94/94 [==============================] - 0s 1ms/step - loss: 0.3293 - accuracy: 0.8468\n",
            "Epoch 93/100\n",
            "94/94 [==============================] - 0s 1ms/step - loss: 0.3292 - accuracy: 0.8542\n",
            "Epoch 94/100\n",
            "94/94 [==============================] - 0s 1ms/step - loss: 0.3268 - accuracy: 0.8532\n",
            "Epoch 95/100\n",
            "94/94 [==============================] - 0s 1ms/step - loss: 0.3272 - accuracy: 0.8512\n",
            "Epoch 96/100\n",
            "94/94 [==============================] - 0s 969us/step - loss: 0.3252 - accuracy: 0.8478\n",
            "Epoch 97/100\n",
            "94/94 [==============================] - 0s 1ms/step - loss: 0.3224 - accuracy: 0.8508\n",
            "Epoch 98/100\n",
            "94/94 [==============================] - 0s 1ms/step - loss: 0.3224 - accuracy: 0.8542\n",
            "Epoch 99/100\n",
            "94/94 [==============================] - 0s 1ms/step - loss: 0.3198 - accuracy: 0.8518\n",
            "Epoch 100/100\n",
            "94/94 [==============================] - 0s 1ms/step - loss: 0.3189 - accuracy: 0.8542\n",
            "24/24 [==============================] - 0s 868us/step - loss: 0.7277 - accuracy: 0.7299\n",
            "[0.727724015712738, 0.7299465537071228]\n",
            "Classification Report: \n",
            "               precision    recall  f1-score   support\n",
            "\n",
            "           0       0.76      0.68      0.72       374\n",
            "           1       0.71      0.78      0.74       374\n",
            "\n",
            "    accuracy                           0.73       748\n",
            "   macro avg       0.73      0.73      0.73       748\n",
            "weighted avg       0.73      0.73      0.73       748\n",
            "\n"
          ],
          "name": "stdout"
        }
      ]
    },
    {
      "cell_type": "markdown",
      "metadata": {
        "id": "P1pRYUkIWVjT"
      },
      "source": [
        "# Method2 : Oversampling"
      ]
    },
    {
      "cell_type": "code",
      "metadata": {
        "colab": {
          "base_uri": "https://localhost:8080/"
        },
        "id": "dqeTY5yiVj5Y",
        "outputId": "12b837bc-f837-4c79-de04-c120c7658169"
      },
      "source": [
        "df_class_1_oversampling = df_class_1.sample(count_class_0, replace=True)\n",
        "df_test_oversampling = pd.concat([df_class_0, df_class_1_oversampling], axis='rows')\n",
        "X = df_test_oversampling.drop('Churn',axis='columns')\n",
        "y = df_test_oversampling['Churn']\n",
        "\n",
        "from sklearn.model_selection import train_test_split\n",
        "# stratify is for imbalanced datasets\n",
        "X_train, X_test, y_train, y_test = train_test_split(X, y, test_size=0.2, random_state=15, stratify=y)\n",
        "y_preds = ANN(X_train, y_train, X_test, y_test, 'binary_crossentropy', -1)"
      ],
      "execution_count": 45,
      "outputs": [
        {
          "output_type": "stream",
          "text": [
            "259/259 [==============================] - 0s 1ms/step - loss: 0.3218 - accuracy: 0.8577\n",
            "Epoch 96/100\n",
            "259/259 [==============================] - 0s 1ms/step - loss: 0.3176 - accuracy: 0.8613\n",
            "Epoch 97/100\n",
            "259/259 [==============================] - 0s 1ms/step - loss: 0.3206 - accuracy: 0.8590\n",
            "Epoch 98/100\n",
            "259/259 [==============================] - 0s 1ms/step - loss: 0.3197 - accuracy: 0.8568\n",
            "Epoch 99/100\n",
            "259/259 [==============================] - 0s 1ms/step - loss: 0.3185 - accuracy: 0.8575\n",
            "Epoch 100/100\n",
            "259/259 [==============================] - 0s 1ms/step - loss: 0.3220 - accuracy: 0.8556\n",
            "65/65 [==============================] - 0s 689us/step - loss: 0.4653 - accuracy: 0.8069\n",
            "[0.46528467535972595, 0.8068732023239136]\n",
            "Classification Report: \n",
            "               precision    recall  f1-score   support\n",
            "\n",
            "           0       0.85      0.75      0.79      1033\n",
            "           1       0.77      0.87      0.82      1033\n",
            "\n",
            "    accuracy                           0.81      2066\n",
            "   macro avg       0.81      0.81      0.81      2066\n",
            "weighted avg       0.81      0.81      0.81      2066\n",
            "\n"
          ],
          "name": "stdout"
        }
      ]
    },
    {
      "cell_type": "markdown",
      "metadata": {
        "id": "_aoxVZF1YASw"
      },
      "source": [
        "# Method3: Oversampling_SMOTE"
      ]
    },
    {
      "cell_type": "code",
      "metadata": {
        "colab": {
          "base_uri": "https://localhost:8080/"
        },
        "id": "xbCDfXfdX9ma",
        "outputId": "509c3186-99b5-4f2d-c50a-7b28e2646993"
      },
      "source": [
        "X = df2.drop('Churn',axis='columns')\n",
        "y = df2['Churn']\n",
        "from imblearn.over_sampling import SMOTE\n",
        "\n",
        "smote = SMOTE(sampling_strategy='minority')\n",
        "X_sm, y_sm = smote.fit_sample(X, y)"
      ],
      "execution_count": 51,
      "outputs": [
        {
          "output_type": "stream",
          "text": [
            "/usr/local/lib/python3.7/dist-packages/sklearn/utils/deprecation.py:87: FutureWarning: Function safe_indexing is deprecated; safe_indexing is deprecated in version 0.22 and will be removed in version 0.24.\n",
            "  warnings.warn(msg, category=FutureWarning)\n"
          ],
          "name": "stderr"
        }
      ]
    },
    {
      "cell_type": "code",
      "metadata": {
        "colab": {
          "base_uri": "https://localhost:8080/"
        },
        "id": "jeQyJhWEYLUg",
        "outputId": "f1f41b0d-2043-446e-e506-abeabb64f725"
      },
      "source": [
        "from sklearn.model_selection import train_test_split\n",
        "X_train, X_test, y_train, y_test = train_test_split(X_sm, y_sm, test_size=0.2, random_state=15, stratify=y_sm)\n",
        "y_preds = ANN(X_train, y_train, X_test, y_test, 'binary_crossentropy', -1)\n"
      ],
      "execution_count": 53,
      "outputs": [
        {
          "output_type": "stream",
          "text": [
            "Classification Report: \n",
            "               precision    recall  f1-score   support\n",
            "\n",
            "           0       0.82      0.73      0.77      1033\n",
            "           1       0.76      0.84      0.80      1033\n",
            "\n",
            "    accuracy                           0.78      2066\n",
            "   macro avg       0.79      0.78      0.78      2066\n",
            "weighted avg       0.79      0.78      0.78      2066\n",
            "\n"
          ],
          "name": "stdout"
        }
      ]
    },
    {
      "cell_type": "markdown",
      "metadata": {
        "id": "cjAhVQmcYw4D"
      },
      "source": [
        "# Method4: Use of Ensemble with undersampling"
      ]
    },
    {
      "cell_type": "code",
      "metadata": {
        "id": "UsQq4n9XYyUX"
      },
      "source": [
        "df2.Churn.value_counts()\n",
        "X = df2.drop('Churn',axis='columns')\n",
        "y = df2['Churn']\n",
        "from sklearn.model_selection import train_test_split\n",
        "X_train, X_test, y_train, y_test = train_test_split(X, y, test_size=0.2, random_state=15, stratify=y)\n"
      ],
      "execution_count": 57,
      "outputs": []
    },
    {
      "cell_type": "code",
      "metadata": {
        "id": "AoKimK02YyXA"
      },
      "source": [
        "df3 = X_train.copy()\n",
        "df3['Churn'] = y_train\n",
        "df3_class0 = df3[df3.Churn==0]\n",
        "df3_class1 = df3[df3.Churn==1]"
      ],
      "execution_count": 58,
      "outputs": []
    },
    {
      "cell_type": "code",
      "metadata": {
        "id": "sO1fMx0mYyZk"
      },
      "source": [
        "def get_train_batch(df_majority, df_minority, start, end):\n",
        "    df_train = pd.concat([df_majority[start:end], df_minority], axis=0)\n",
        "\n",
        "    X_train = df_train.drop('Churn', axis='columns')\n",
        "    y_train = df_train.Churn\n",
        "    return X_train, y_train"
      ],
      "execution_count": 59,
      "outputs": []
    },
    {
      "cell_type": "code",
      "metadata": {
        "colab": {
          "base_uri": "https://localhost:8080/"
        },
        "id": "s0oMSJMUZNp6",
        "outputId": "dd72213c-6d59-47a4-8d0a-dc1783f94612"
      },
      "source": [
        "X_train, y_train = get_train_batch(df3_class0, df3_class1, 0, 1495)\n",
        "y_pred1 = ANN(X_train, y_train, X_test, y_test, 'binary_crossentropy', -1)\n",
        "X_train, y_train = get_train_batch(df3_class0, df3_class1, 1495, 2990)\n",
        "y_pred2 = ANN(X_train, y_train, X_test, y_test, 'binary_crossentropy', -1)\n",
        "X_train, y_train = get_train_batch(df3_class0, df3_class1, 2990, 4130)\n",
        "y_pred3 = ANN(X_train, y_train, X_test, y_test, 'binary_crossentropy', -1)"
      ],
      "execution_count": 60,
      "outputs": [
        {
          "output_type": "stream",
          "text": [
            "Epoch 1/100\n",
            "94/94 [==============================] - 0s 1ms/step - loss: 0.6350 - accuracy: 0.6472\n",
            "Epoch 2/100\n",
            "94/94 [==============================] - 0s 965us/step - loss: 0.5224 - accuracy: 0.7452\n",
            "Epoch 3/100\n",
            "94/94 [==============================] - 0s 979us/step - loss: 0.4965 - accuracy: 0.7609\n",
            "Epoch 4/100\n",
            "94/94 [==============================] - 0s 1ms/step - loss: 0.4887 - accuracy: 0.7682\n",
            "Epoch 5/100\n",
            "94/94 [==============================] - 0s 1ms/step - loss: 0.4841 - accuracy: 0.7689\n",
            "Epoch 6/100\n",
            "94/94 [==============================] - 0s 1ms/step - loss: 0.4812 - accuracy: 0.7716\n",
            "Epoch 7/100\n",
            "94/94 [==============================] - 0s 980us/step - loss: 0.4765 - accuracy: 0.7803\n",
            "Epoch 8/100\n",
            "94/94 [==============================] - 0s 1ms/step - loss: 0.4728 - accuracy: 0.7806\n",
            "Epoch 9/100\n",
            "94/94 [==============================] - 0s 1ms/step - loss: 0.4722 - accuracy: 0.7756\n",
            "Epoch 10/100\n",
            "94/94 [==============================] - 0s 984us/step - loss: 0.4674 - accuracy: 0.7813\n",
            "Epoch 11/100\n",
            "94/94 [==============================] - 0s 1ms/step - loss: 0.4666 - accuracy: 0.7803\n",
            "Epoch 12/100\n",
            "94/94 [==============================] - 0s 1ms/step - loss: 0.4643 - accuracy: 0.7846\n",
            "Epoch 13/100\n",
            "94/94 [==============================] - 0s 1ms/step - loss: 0.4615 - accuracy: 0.7766\n",
            "Epoch 14/100\n",
            "94/94 [==============================] - 0s 1ms/step - loss: 0.4615 - accuracy: 0.7863\n",
            "Epoch 15/100\n",
            "94/94 [==============================] - 0s 1ms/step - loss: 0.4591 - accuracy: 0.7900\n",
            "Epoch 16/100\n",
            "94/94 [==============================] - 0s 963us/step - loss: 0.4535 - accuracy: 0.7876\n",
            "Epoch 17/100\n",
            "94/94 [==============================] - 0s 1ms/step - loss: 0.4533 - accuracy: 0.7883\n",
            "Epoch 18/100\n",
            "94/94 [==============================] - 0s 1ms/step - loss: 0.4511 - accuracy: 0.7886\n",
            "Epoch 19/100\n",
            "94/94 [==============================] - 0s 1ms/step - loss: 0.4498 - accuracy: 0.7926\n",
            "Epoch 20/100\n",
            "94/94 [==============================] - 0s 1ms/step - loss: 0.4494 - accuracy: 0.7920\n",
            "Epoch 21/100\n",
            "94/94 [==============================] - 0s 1ms/step - loss: 0.4478 - accuracy: 0.7940\n",
            "Epoch 22/100\n",
            "94/94 [==============================] - 0s 1ms/step - loss: 0.4436 - accuracy: 0.7940\n",
            "Epoch 23/100\n",
            "94/94 [==============================] - 0s 1ms/step - loss: 0.4424 - accuracy: 0.7960\n",
            "Epoch 24/100\n",
            "94/94 [==============================] - 0s 1ms/step - loss: 0.4399 - accuracy: 0.7916\n",
            "Epoch 25/100\n",
            "94/94 [==============================] - 0s 1ms/step - loss: 0.4393 - accuracy: 0.7910\n",
            "Epoch 26/100\n",
            "94/94 [==============================] - 0s 1ms/step - loss: 0.4374 - accuracy: 0.7957\n",
            "Epoch 27/100\n",
            "94/94 [==============================] - 0s 1ms/step - loss: 0.4379 - accuracy: 0.7926\n",
            "Epoch 28/100\n",
            "94/94 [==============================] - 0s 1ms/step - loss: 0.4332 - accuracy: 0.7967\n",
            "Epoch 29/100\n",
            "94/94 [==============================] - 0s 996us/step - loss: 0.4308 - accuracy: 0.8007\n",
            "Epoch 30/100\n",
            "94/94 [==============================] - 0s 1ms/step - loss: 0.4282 - accuracy: 0.8007\n",
            "Epoch 31/100\n",
            "94/94 [==============================] - 0s 1ms/step - loss: 0.4292 - accuracy: 0.8007\n",
            "Epoch 32/100\n",
            "94/94 [==============================] - 0s 1ms/step - loss: 0.4284 - accuracy: 0.8023\n",
            "Epoch 33/100\n",
            "94/94 [==============================] - 0s 1ms/step - loss: 0.4283 - accuracy: 0.8030\n",
            "Epoch 34/100\n",
            "94/94 [==============================] - 0s 998us/step - loss: 0.4243 - accuracy: 0.8057\n",
            "Epoch 35/100\n",
            "94/94 [==============================] - 0s 1000us/step - loss: 0.4210 - accuracy: 0.8067\n",
            "Epoch 36/100\n",
            "94/94 [==============================] - 0s 1ms/step - loss: 0.4178 - accuracy: 0.8097\n",
            "Epoch 37/100\n",
            "94/94 [==============================] - 0s 1ms/step - loss: 0.4201 - accuracy: 0.8000\n",
            "Epoch 38/100\n",
            "94/94 [==============================] - 0s 1ms/step - loss: 0.4160 - accuracy: 0.8104\n",
            "Epoch 39/100\n",
            "94/94 [==============================] - 0s 1ms/step - loss: 0.4138 - accuracy: 0.8117\n",
            "Epoch 40/100\n",
            "94/94 [==============================] - 0s 1ms/step - loss: 0.4140 - accuracy: 0.8094\n",
            "Epoch 41/100\n",
            "94/94 [==============================] - 0s 1ms/step - loss: 0.4137 - accuracy: 0.8097\n",
            "Epoch 42/100\n",
            "94/94 [==============================] - 0s 1ms/step - loss: 0.4097 - accuracy: 0.8097\n",
            "Epoch 43/100\n",
            "94/94 [==============================] - 0s 1ms/step - loss: 0.4087 - accuracy: 0.8140\n",
            "Epoch 44/100\n",
            "94/94 [==============================] - 0s 1ms/step - loss: 0.4053 - accuracy: 0.8140\n",
            "Epoch 45/100\n",
            "94/94 [==============================] - 0s 1ms/step - loss: 0.4034 - accuracy: 0.8114\n",
            "Epoch 46/100\n",
            "94/94 [==============================] - 0s 1ms/step - loss: 0.4018 - accuracy: 0.8187\n",
            "Epoch 47/100\n",
            "94/94 [==============================] - 0s 1ms/step - loss: 0.4005 - accuracy: 0.8194\n",
            "Epoch 48/100\n",
            "94/94 [==============================] - 0s 999us/step - loss: 0.3986 - accuracy: 0.8211\n",
            "Epoch 49/100\n",
            "94/94 [==============================] - 0s 986us/step - loss: 0.3951 - accuracy: 0.8154\n",
            "Epoch 50/100\n",
            "94/94 [==============================] - 0s 1ms/step - loss: 0.3966 - accuracy: 0.8174\n",
            "Epoch 51/100\n",
            "94/94 [==============================] - 0s 1ms/step - loss: 0.3941 - accuracy: 0.8201\n",
            "Epoch 52/100\n",
            "94/94 [==============================] - 0s 1ms/step - loss: 0.3982 - accuracy: 0.8204\n",
            "Epoch 53/100\n",
            "94/94 [==============================] - 0s 1ms/step - loss: 0.3930 - accuracy: 0.8247\n",
            "Epoch 54/100\n",
            "94/94 [==============================] - 0s 1ms/step - loss: 0.3899 - accuracy: 0.8211\n",
            "Epoch 55/100\n",
            "94/94 [==============================] - 0s 1ms/step - loss: 0.3864 - accuracy: 0.8201\n",
            "Epoch 56/100\n",
            "94/94 [==============================] - 0s 1ms/step - loss: 0.3874 - accuracy: 0.8247\n",
            "Epoch 57/100\n",
            "94/94 [==============================] - 0s 1ms/step - loss: 0.3848 - accuracy: 0.8301\n",
            "Epoch 58/100\n",
            "94/94 [==============================] - 0s 1ms/step - loss: 0.3866 - accuracy: 0.8241\n",
            "Epoch 59/100\n",
            "94/94 [==============================] - 0s 989us/step - loss: 0.3823 - accuracy: 0.8281\n",
            "Epoch 60/100\n",
            "94/94 [==============================] - 0s 969us/step - loss: 0.3843 - accuracy: 0.8264\n",
            "Epoch 61/100\n",
            "94/94 [==============================] - 0s 1ms/step - loss: 0.3796 - accuracy: 0.8244\n",
            "Epoch 62/100\n",
            "94/94 [==============================] - 0s 1ms/step - loss: 0.3787 - accuracy: 0.8321\n",
            "Epoch 63/100\n",
            "94/94 [==============================] - 0s 996us/step - loss: 0.3785 - accuracy: 0.8284\n",
            "Epoch 64/100\n",
            "94/94 [==============================] - 0s 1ms/step - loss: 0.3756 - accuracy: 0.8298\n",
            "Epoch 65/100\n",
            "94/94 [==============================] - 0s 1ms/step - loss: 0.3751 - accuracy: 0.8308\n",
            "Epoch 66/100\n",
            "94/94 [==============================] - 0s 992us/step - loss: 0.3740 - accuracy: 0.8298\n",
            "Epoch 67/100\n",
            "94/94 [==============================] - 0s 1ms/step - loss: 0.3709 - accuracy: 0.8365\n",
            "Epoch 68/100\n",
            "94/94 [==============================] - 0s 973us/step - loss: 0.3705 - accuracy: 0.8334\n",
            "Epoch 69/100\n",
            "94/94 [==============================] - 0s 1ms/step - loss: 0.3671 - accuracy: 0.8405\n",
            "Epoch 70/100\n",
            "94/94 [==============================] - 0s 1ms/step - loss: 0.3672 - accuracy: 0.8375\n",
            "Epoch 71/100\n",
            "94/94 [==============================] - 0s 1ms/step - loss: 0.3718 - accuracy: 0.8268\n",
            "Epoch 72/100\n",
            "94/94 [==============================] - 0s 1ms/step - loss: 0.3656 - accuracy: 0.8341\n",
            "Epoch 73/100\n",
            "94/94 [==============================] - 0s 1ms/step - loss: 0.3632 - accuracy: 0.8308\n",
            "Epoch 74/100\n",
            "94/94 [==============================] - 0s 1ms/step - loss: 0.3651 - accuracy: 0.8338\n",
            "Epoch 75/100\n",
            "94/94 [==============================] - 0s 1ms/step - loss: 0.3604 - accuracy: 0.8371\n",
            "Epoch 76/100\n",
            "94/94 [==============================] - 0s 984us/step - loss: 0.3643 - accuracy: 0.8378\n",
            "Epoch 77/100\n",
            "94/94 [==============================] - 0s 1ms/step - loss: 0.3586 - accuracy: 0.8375\n",
            "Epoch 78/100\n",
            "94/94 [==============================] - 0s 1ms/step - loss: 0.3579 - accuracy: 0.8391\n",
            "Epoch 79/100\n",
            "94/94 [==============================] - 0s 985us/step - loss: 0.3569 - accuracy: 0.8381\n",
            "Epoch 80/100\n",
            "94/94 [==============================] - 0s 1ms/step - loss: 0.3601 - accuracy: 0.8361\n",
            "Epoch 81/100\n",
            "94/94 [==============================] - 0s 1ms/step - loss: 0.3583 - accuracy: 0.8375\n",
            "Epoch 82/100\n",
            "94/94 [==============================] - 0s 1ms/step - loss: 0.3536 - accuracy: 0.8421\n",
            "Epoch 83/100\n",
            "94/94 [==============================] - 0s 1ms/step - loss: 0.3553 - accuracy: 0.8431\n",
            "Epoch 84/100\n",
            "94/94 [==============================] - 0s 1ms/step - loss: 0.3493 - accuracy: 0.8421\n",
            "Epoch 85/100\n",
            "94/94 [==============================] - 0s 1ms/step - loss: 0.3490 - accuracy: 0.8468\n",
            "Epoch 86/100\n",
            "94/94 [==============================] - 0s 1ms/step - loss: 0.3488 - accuracy: 0.8431\n",
            "Epoch 87/100\n",
            "94/94 [==============================] - 0s 990us/step - loss: 0.3465 - accuracy: 0.8441\n",
            "Epoch 88/100\n",
            "94/94 [==============================] - 0s 1ms/step - loss: 0.3489 - accuracy: 0.8478\n",
            "Epoch 89/100\n",
            "94/94 [==============================] - 0s 1ms/step - loss: 0.3444 - accuracy: 0.8498\n",
            "Epoch 90/100\n",
            "94/94 [==============================] - 0s 1ms/step - loss: 0.3527 - accuracy: 0.8391\n",
            "Epoch 91/100\n",
            "94/94 [==============================] - 0s 1ms/step - loss: 0.3416 - accuracy: 0.8485\n",
            "Epoch 92/100\n",
            "94/94 [==============================] - 0s 1ms/step - loss: 0.3395 - accuracy: 0.8508\n",
            "Epoch 93/100\n",
            "94/94 [==============================] - 0s 1ms/step - loss: 0.3412 - accuracy: 0.8502\n",
            "Epoch 94/100\n",
            "94/94 [==============================] - 0s 1ms/step - loss: 0.3395 - accuracy: 0.8512\n",
            "Epoch 95/100\n",
            "94/94 [==============================] - 0s 1ms/step - loss: 0.3393 - accuracy: 0.8468\n",
            "Epoch 96/100\n",
            "94/94 [==============================] - 0s 1ms/step - loss: 0.3376 - accuracy: 0.8505\n",
            "Epoch 97/100\n",
            "94/94 [==============================] - 0s 1ms/step - loss: 0.3353 - accuracy: 0.8498\n",
            "Epoch 98/100\n",
            "94/94 [==============================] - 0s 989us/step - loss: 0.3375 - accuracy: 0.8492\n",
            "Epoch 99/100\n",
            "94/94 [==============================] - 0s 978us/step - loss: 0.3295 - accuracy: 0.8528\n",
            "Epoch 100/100\n",
            "94/94 [==============================] - 0s 1ms/step - loss: 0.3314 - accuracy: 0.8555\n",
            "44/44 [==============================] - 0s 736us/step - loss: 0.6595 - accuracy: 0.7228\n",
            "[0.6594658493995667, 0.7228145003318787]\n",
            "Classification Report: \n",
            "               precision    recall  f1-score   support\n",
            "\n",
            "           0       0.86      0.74      0.80      1033\n",
            "           1       0.48      0.67      0.56       374\n",
            "\n",
            "    accuracy                           0.72      1407\n",
            "   macro avg       0.67      0.71      0.68      1407\n",
            "weighted avg       0.76      0.72      0.73      1407\n",
            "\n",
            "Epoch 1/100\n",
            "94/94 [==============================] - 0s 1ms/step - loss: 0.5816 - accuracy: 0.6930\n",
            "Epoch 2/100\n",
            "94/94 [==============================] - 0s 1ms/step - loss: 0.5078 - accuracy: 0.7468\n",
            "Epoch 3/100\n",
            "94/94 [==============================] - 0s 1ms/step - loss: 0.4942 - accuracy: 0.7585\n",
            "Epoch 4/100\n",
            "94/94 [==============================] - 0s 1ms/step - loss: 0.4904 - accuracy: 0.7625\n",
            "Epoch 5/100\n",
            "94/94 [==============================] - 0s 1ms/step - loss: 0.4833 - accuracy: 0.7642\n",
            "Epoch 6/100\n",
            "94/94 [==============================] - 0s 1ms/step - loss: 0.4777 - accuracy: 0.7656\n",
            "Epoch 7/100\n",
            "94/94 [==============================] - 0s 1ms/step - loss: 0.4752 - accuracy: 0.7662\n",
            "Epoch 8/100\n",
            "94/94 [==============================] - 0s 1ms/step - loss: 0.4709 - accuracy: 0.7686\n",
            "Epoch 9/100\n",
            "94/94 [==============================] - 0s 1ms/step - loss: 0.4671 - accuracy: 0.7709\n",
            "Epoch 10/100\n",
            "94/94 [==============================] - 0s 1ms/step - loss: 0.4668 - accuracy: 0.7689\n",
            "Epoch 11/100\n",
            "94/94 [==============================] - 0s 1ms/step - loss: 0.4635 - accuracy: 0.7749\n",
            "Epoch 12/100\n",
            "94/94 [==============================] - 0s 1ms/step - loss: 0.4610 - accuracy: 0.7706\n",
            "Epoch 13/100\n",
            "94/94 [==============================] - 0s 1ms/step - loss: 0.4586 - accuracy: 0.7732\n",
            "Epoch 14/100\n",
            "94/94 [==============================] - 0s 1ms/step - loss: 0.4556 - accuracy: 0.7796\n",
            "Epoch 15/100\n",
            "94/94 [==============================] - 0s 1ms/step - loss: 0.4539 - accuracy: 0.7816\n",
            "Epoch 16/100\n",
            "94/94 [==============================] - 0s 1ms/step - loss: 0.4517 - accuracy: 0.7742\n",
            "Epoch 17/100\n",
            "94/94 [==============================] - 0s 961us/step - loss: 0.4498 - accuracy: 0.7763\n",
            "Epoch 18/100\n",
            "94/94 [==============================] - 0s 964us/step - loss: 0.4477 - accuracy: 0.7843\n",
            "Epoch 19/100\n",
            "94/94 [==============================] - 0s 975us/step - loss: 0.4446 - accuracy: 0.7876\n",
            "Epoch 20/100\n",
            "94/94 [==============================] - 0s 991us/step - loss: 0.4427 - accuracy: 0.7880\n",
            "Epoch 21/100\n",
            "94/94 [==============================] - 0s 1ms/step - loss: 0.4398 - accuracy: 0.7860\n",
            "Epoch 22/100\n",
            "94/94 [==============================] - 0s 1ms/step - loss: 0.4375 - accuracy: 0.7876\n",
            "Epoch 23/100\n",
            "94/94 [==============================] - 0s 1ms/step - loss: 0.4365 - accuracy: 0.7860\n",
            "Epoch 24/100\n",
            "94/94 [==============================] - 0s 1ms/step - loss: 0.4348 - accuracy: 0.7950\n",
            "Epoch 25/100\n",
            "94/94 [==============================] - 0s 1ms/step - loss: 0.4330 - accuracy: 0.7883\n",
            "Epoch 26/100\n",
            "94/94 [==============================] - 0s 1ms/step - loss: 0.4305 - accuracy: 0.7933\n",
            "Epoch 27/100\n",
            "94/94 [==============================] - 0s 1ms/step - loss: 0.4284 - accuracy: 0.7943\n",
            "Epoch 28/100\n",
            "94/94 [==============================] - 0s 1ms/step - loss: 0.4290 - accuracy: 0.7923\n",
            "Epoch 29/100\n",
            "94/94 [==============================] - 0s 1ms/step - loss: 0.4240 - accuracy: 0.7940\n",
            "Epoch 30/100\n",
            "94/94 [==============================] - 0s 1ms/step - loss: 0.4226 - accuracy: 0.7973\n",
            "Epoch 31/100\n",
            "94/94 [==============================] - 0s 1ms/step - loss: 0.4204 - accuracy: 0.8000\n",
            "Epoch 32/100\n",
            "94/94 [==============================] - 0s 1ms/step - loss: 0.4179 - accuracy: 0.8030\n",
            "Epoch 33/100\n",
            "94/94 [==============================] - 0s 1ms/step - loss: 0.4185 - accuracy: 0.8030\n",
            "Epoch 34/100\n",
            "94/94 [==============================] - 0s 1ms/step - loss: 0.4140 - accuracy: 0.8027\n",
            "Epoch 35/100\n",
            "94/94 [==============================] - 0s 1ms/step - loss: 0.4134 - accuracy: 0.8003\n",
            "Epoch 36/100\n",
            "94/94 [==============================] - 0s 993us/step - loss: 0.4135 - accuracy: 0.8080\n",
            "Epoch 37/100\n",
            "94/94 [==============================] - 0s 1ms/step - loss: 0.4105 - accuracy: 0.8067\n",
            "Epoch 38/100\n",
            "94/94 [==============================] - 0s 1ms/step - loss: 0.4064 - accuracy: 0.8110\n",
            "Epoch 39/100\n",
            "94/94 [==============================] - 0s 1ms/step - loss: 0.4041 - accuracy: 0.8120\n",
            "Epoch 40/100\n",
            "94/94 [==============================] - 0s 1ms/step - loss: 0.4047 - accuracy: 0.8184\n",
            "Epoch 41/100\n",
            "94/94 [==============================] - 0s 1ms/step - loss: 0.4021 - accuracy: 0.8147\n",
            "Epoch 42/100\n",
            "94/94 [==============================] - 0s 1ms/step - loss: 0.4018 - accuracy: 0.8117\n",
            "Epoch 43/100\n",
            "94/94 [==============================] - 0s 1ms/step - loss: 0.3973 - accuracy: 0.8171\n",
            "Epoch 44/100\n",
            "94/94 [==============================] - 0s 1ms/step - loss: 0.3955 - accuracy: 0.8167\n",
            "Epoch 45/100\n",
            "94/94 [==============================] - 0s 1ms/step - loss: 0.3928 - accuracy: 0.8194\n",
            "Epoch 46/100\n",
            "94/94 [==============================] - 0s 1ms/step - loss: 0.3877 - accuracy: 0.8201\n",
            "Epoch 47/100\n",
            "94/94 [==============================] - 0s 1ms/step - loss: 0.3892 - accuracy: 0.8187\n",
            "Epoch 48/100\n",
            "94/94 [==============================] - 0s 1ms/step - loss: 0.3874 - accuracy: 0.8197\n",
            "Epoch 49/100\n",
            "94/94 [==============================] - 0s 1ms/step - loss: 0.3863 - accuracy: 0.8241\n",
            "Epoch 50/100\n",
            "94/94 [==============================] - 0s 1ms/step - loss: 0.3856 - accuracy: 0.8214\n",
            "Epoch 51/100\n",
            "94/94 [==============================] - 0s 1ms/step - loss: 0.3820 - accuracy: 0.8217\n",
            "Epoch 52/100\n",
            "94/94 [==============================] - 0s 1ms/step - loss: 0.3779 - accuracy: 0.8241\n",
            "Epoch 53/100\n",
            "94/94 [==============================] - 0s 1ms/step - loss: 0.3821 - accuracy: 0.8304\n",
            "Epoch 54/100\n",
            "94/94 [==============================] - 0s 1ms/step - loss: 0.3763 - accuracy: 0.8261\n",
            "Epoch 55/100\n",
            "94/94 [==============================] - 0s 1ms/step - loss: 0.3730 - accuracy: 0.8247\n",
            "Epoch 56/100\n",
            "94/94 [==============================] - 0s 1ms/step - loss: 0.3706 - accuracy: 0.8338\n",
            "Epoch 57/100\n",
            "94/94 [==============================] - 0s 1ms/step - loss: 0.3721 - accuracy: 0.8291\n",
            "Epoch 58/100\n",
            "94/94 [==============================] - 0s 1ms/step - loss: 0.3688 - accuracy: 0.8264\n",
            "Epoch 59/100\n",
            "94/94 [==============================] - 0s 1ms/step - loss: 0.3659 - accuracy: 0.8358\n",
            "Epoch 60/100\n",
            "94/94 [==============================] - 0s 1ms/step - loss: 0.3649 - accuracy: 0.8321\n",
            "Epoch 61/100\n",
            "94/94 [==============================] - 0s 1ms/step - loss: 0.3596 - accuracy: 0.8381\n",
            "Epoch 62/100\n",
            "94/94 [==============================] - 0s 1ms/step - loss: 0.3590 - accuracy: 0.8401\n",
            "Epoch 63/100\n",
            "94/94 [==============================] - 0s 1ms/step - loss: 0.3572 - accuracy: 0.8395\n",
            "Epoch 64/100\n",
            "94/94 [==============================] - 0s 1ms/step - loss: 0.3593 - accuracy: 0.8391\n",
            "Epoch 65/100\n",
            "94/94 [==============================] - 0s 1ms/step - loss: 0.3573 - accuracy: 0.8401\n",
            "Epoch 66/100\n",
            "94/94 [==============================] - 0s 1ms/step - loss: 0.3533 - accuracy: 0.8441\n",
            "Epoch 67/100\n",
            "94/94 [==============================] - 0s 1ms/step - loss: 0.3489 - accuracy: 0.8408\n",
            "Epoch 68/100\n",
            "94/94 [==============================] - 0s 1ms/step - loss: 0.3505 - accuracy: 0.8441\n",
            "Epoch 69/100\n",
            "94/94 [==============================] - 0s 1ms/step - loss: 0.3519 - accuracy: 0.8381\n",
            "Epoch 70/100\n",
            "94/94 [==============================] - 0s 1ms/step - loss: 0.3456 - accuracy: 0.8485\n",
            "Epoch 71/100\n",
            "94/94 [==============================] - 0s 1ms/step - loss: 0.3406 - accuracy: 0.8485\n",
            "Epoch 72/100\n",
            "94/94 [==============================] - 0s 1ms/step - loss: 0.3451 - accuracy: 0.8408\n",
            "Epoch 73/100\n",
            "94/94 [==============================] - 0s 1ms/step - loss: 0.3450 - accuracy: 0.8421\n",
            "Epoch 74/100\n",
            "94/94 [==============================] - 0s 1ms/step - loss: 0.3408 - accuracy: 0.8482\n",
            "Epoch 75/100\n",
            "94/94 [==============================] - 0s 1ms/step - loss: 0.3378 - accuracy: 0.8462\n",
            "Epoch 76/100\n",
            "94/94 [==============================] - 0s 1ms/step - loss: 0.3390 - accuracy: 0.8465\n",
            "Epoch 77/100\n",
            "94/94 [==============================] - 0s 1ms/step - loss: 0.3351 - accuracy: 0.8528\n",
            "Epoch 78/100\n",
            "94/94 [==============================] - 0s 1ms/step - loss: 0.3322 - accuracy: 0.8475\n",
            "Epoch 79/100\n",
            "94/94 [==============================] - 0s 1ms/step - loss: 0.3321 - accuracy: 0.8515\n",
            "Epoch 80/100\n",
            "94/94 [==============================] - 0s 1ms/step - loss: 0.3295 - accuracy: 0.8525\n",
            "Epoch 81/100\n",
            "94/94 [==============================] - 0s 1ms/step - loss: 0.3287 - accuracy: 0.8528\n",
            "Epoch 82/100\n",
            "94/94 [==============================] - 0s 1ms/step - loss: 0.3273 - accuracy: 0.8512\n",
            "Epoch 83/100\n",
            "94/94 [==============================] - 0s 1ms/step - loss: 0.3245 - accuracy: 0.8535\n",
            "Epoch 84/100\n",
            "94/94 [==============================] - 0s 1ms/step - loss: 0.3252 - accuracy: 0.8548\n",
            "Epoch 85/100\n",
            "94/94 [==============================] - 0s 1ms/step - loss: 0.3232 - accuracy: 0.8528\n",
            "Epoch 86/100\n",
            "94/94 [==============================] - 0s 1ms/step - loss: 0.3255 - accuracy: 0.8515\n",
            "Epoch 87/100\n",
            "94/94 [==============================] - 0s 1ms/step - loss: 0.3205 - accuracy: 0.8572\n",
            "Epoch 88/100\n",
            "94/94 [==============================] - 0s 1ms/step - loss: 0.3238 - accuracy: 0.8559\n",
            "Epoch 89/100\n",
            "94/94 [==============================] - 0s 1ms/step - loss: 0.3195 - accuracy: 0.8589\n",
            "Epoch 90/100\n",
            "94/94 [==============================] - 0s 1ms/step - loss: 0.3173 - accuracy: 0.8582\n",
            "Epoch 91/100\n",
            "94/94 [==============================] - 0s 1ms/step - loss: 0.3172 - accuracy: 0.8575\n",
            "Epoch 92/100\n",
            "94/94 [==============================] - 0s 1ms/step - loss: 0.3134 - accuracy: 0.8605\n",
            "Epoch 93/100\n",
            "94/94 [==============================] - 0s 1ms/step - loss: 0.3143 - accuracy: 0.8605\n",
            "Epoch 94/100\n",
            "94/94 [==============================] - 0s 1ms/step - loss: 0.3148 - accuracy: 0.8572\n",
            "Epoch 95/100\n",
            "94/94 [==============================] - 0s 1ms/step - loss: 0.3108 - accuracy: 0.8585\n",
            "Epoch 96/100\n",
            "94/94 [==============================] - 0s 1ms/step - loss: 0.3060 - accuracy: 0.8622\n",
            "Epoch 97/100\n",
            "94/94 [==============================] - 0s 1ms/step - loss: 0.3144 - accuracy: 0.8599\n",
            "Epoch 98/100\n",
            "94/94 [==============================] - 0s 1ms/step - loss: 0.3084 - accuracy: 0.8602\n",
            "Epoch 99/100\n",
            "94/94 [==============================] - 0s 1ms/step - loss: 0.3055 - accuracy: 0.8639\n",
            "Epoch 100/100\n",
            "94/94 [==============================] - 0s 1ms/step - loss: 0.3048 - accuracy: 0.8642\n",
            "44/44 [==============================] - 0s 739us/step - loss: 0.6992 - accuracy: 0.7221\n",
            "[0.6992264986038208, 0.7221037745475769]\n",
            "Classification Report: \n",
            "               precision    recall  f1-score   support\n",
            "\n",
            "           0       0.88      0.72      0.79      1033\n",
            "           1       0.49      0.74      0.59       374\n",
            "\n",
            "    accuracy                           0.72      1407\n",
            "   macro avg       0.68      0.73      0.69      1407\n",
            "weighted avg       0.78      0.72      0.74      1407\n",
            "\n",
            "Epoch 1/100\n",
            "83/83 [==============================] - 1s 1ms/step - loss: 0.6253 - accuracy: 0.6554\n",
            "Epoch 2/100\n",
            "83/83 [==============================] - 0s 1ms/step - loss: 0.5104 - accuracy: 0.7628\n",
            "Epoch 3/100\n",
            "83/83 [==============================] - 0s 1ms/step - loss: 0.4911 - accuracy: 0.7738\n",
            "Epoch 4/100\n",
            "83/83 [==============================] - 0s 1ms/step - loss: 0.4857 - accuracy: 0.7765\n",
            "Epoch 5/100\n",
            "83/83 [==============================] - 0s 1ms/step - loss: 0.4800 - accuracy: 0.7746\n",
            "Epoch 6/100\n",
            "83/83 [==============================] - 0s 1ms/step - loss: 0.4757 - accuracy: 0.7814\n",
            "Epoch 7/100\n",
            "83/83 [==============================] - 0s 1ms/step - loss: 0.4721 - accuracy: 0.7818\n",
            "Epoch 8/100\n",
            "83/83 [==============================] - 0s 1ms/step - loss: 0.4682 - accuracy: 0.7841\n",
            "Epoch 9/100\n",
            "83/83 [==============================] - 0s 1ms/step - loss: 0.4643 - accuracy: 0.7814\n",
            "Epoch 10/100\n",
            "83/83 [==============================] - 0s 1ms/step - loss: 0.4622 - accuracy: 0.7860\n",
            "Epoch 11/100\n",
            "83/83 [==============================] - 0s 1ms/step - loss: 0.4591 - accuracy: 0.7875\n",
            "Epoch 12/100\n",
            "83/83 [==============================] - 0s 1ms/step - loss: 0.4579 - accuracy: 0.7932\n",
            "Epoch 13/100\n",
            "83/83 [==============================] - 0s 1ms/step - loss: 0.4555 - accuracy: 0.7898\n",
            "Epoch 14/100\n",
            "83/83 [==============================] - 0s 1ms/step - loss: 0.4523 - accuracy: 0.7954\n",
            "Epoch 15/100\n",
            "83/83 [==============================] - 0s 1ms/step - loss: 0.4531 - accuracy: 0.7905\n",
            "Epoch 16/100\n",
            "83/83 [==============================] - 0s 1ms/step - loss: 0.4498 - accuracy: 0.7970\n",
            "Epoch 17/100\n",
            "83/83 [==============================] - 0s 1ms/step - loss: 0.4474 - accuracy: 0.7970\n",
            "Epoch 18/100\n",
            "83/83 [==============================] - 0s 1ms/step - loss: 0.4433 - accuracy: 0.8011\n",
            "Epoch 19/100\n",
            "83/83 [==============================] - 0s 1ms/step - loss: 0.4416 - accuracy: 0.8011\n",
            "Epoch 20/100\n",
            "83/83 [==============================] - 0s 1ms/step - loss: 0.4400 - accuracy: 0.8053\n",
            "Epoch 21/100\n",
            "83/83 [==============================] - 0s 1ms/step - loss: 0.4374 - accuracy: 0.8038\n",
            "Epoch 22/100\n",
            "83/83 [==============================] - 0s 1ms/step - loss: 0.4337 - accuracy: 0.8015\n",
            "Epoch 23/100\n",
            "83/83 [==============================] - 0s 1ms/step - loss: 0.4338 - accuracy: 0.8057\n",
            "Epoch 24/100\n",
            "83/83 [==============================] - 0s 1ms/step - loss: 0.4297 - accuracy: 0.8000\n",
            "Epoch 25/100\n",
            "83/83 [==============================] - 0s 1ms/step - loss: 0.4291 - accuracy: 0.8038\n",
            "Epoch 26/100\n",
            "83/83 [==============================] - 0s 1ms/step - loss: 0.4279 - accuracy: 0.8027\n",
            "Epoch 27/100\n",
            "83/83 [==============================] - 0s 1ms/step - loss: 0.4247 - accuracy: 0.8042\n",
            "Epoch 28/100\n",
            "83/83 [==============================] - 0s 1ms/step - loss: 0.4222 - accuracy: 0.8057\n",
            "Epoch 29/100\n",
            "83/83 [==============================] - 0s 1ms/step - loss: 0.4217 - accuracy: 0.8061\n",
            "Epoch 30/100\n",
            "83/83 [==============================] - 0s 1ms/step - loss: 0.4211 - accuracy: 0.8099\n",
            "Epoch 31/100\n",
            "83/83 [==============================] - 0s 1ms/step - loss: 0.4152 - accuracy: 0.8083\n",
            "Epoch 32/100\n",
            "83/83 [==============================] - 0s 1ms/step - loss: 0.4142 - accuracy: 0.8091\n",
            "Epoch 33/100\n",
            "83/83 [==============================] - 0s 1ms/step - loss: 0.4106 - accuracy: 0.8144\n",
            "Epoch 34/100\n",
            "83/83 [==============================] - 0s 1ms/step - loss: 0.4090 - accuracy: 0.8190\n",
            "Epoch 35/100\n",
            "83/83 [==============================] - 0s 1ms/step - loss: 0.4052 - accuracy: 0.8213\n",
            "Epoch 36/100\n",
            "83/83 [==============================] - 0s 1ms/step - loss: 0.4066 - accuracy: 0.8121\n",
            "Epoch 37/100\n",
            "83/83 [==============================] - 0s 1ms/step - loss: 0.4056 - accuracy: 0.8148\n",
            "Epoch 38/100\n",
            "83/83 [==============================] - 0s 1ms/step - loss: 0.4032 - accuracy: 0.8171\n",
            "Epoch 39/100\n",
            "83/83 [==============================] - 0s 1ms/step - loss: 0.4001 - accuracy: 0.8152\n",
            "Epoch 40/100\n",
            "83/83 [==============================] - 0s 1ms/step - loss: 0.3978 - accuracy: 0.8171\n",
            "Epoch 41/100\n",
            "83/83 [==============================] - 0s 1ms/step - loss: 0.3957 - accuracy: 0.8228\n",
            "Epoch 42/100\n",
            "83/83 [==============================] - 0s 1ms/step - loss: 0.3971 - accuracy: 0.8175\n",
            "Epoch 43/100\n",
            "83/83 [==============================] - 0s 1ms/step - loss: 0.3926 - accuracy: 0.8194\n",
            "Epoch 44/100\n",
            "83/83 [==============================] - 0s 1ms/step - loss: 0.3916 - accuracy: 0.8235\n",
            "Epoch 45/100\n",
            "83/83 [==============================] - 0s 1ms/step - loss: 0.3892 - accuracy: 0.8216\n",
            "Epoch 46/100\n",
            "83/83 [==============================] - 0s 1ms/step - loss: 0.3879 - accuracy: 0.8235\n",
            "Epoch 47/100\n",
            "83/83 [==============================] - 0s 1ms/step - loss: 0.3852 - accuracy: 0.8269\n",
            "Epoch 48/100\n",
            "83/83 [==============================] - 0s 1ms/step - loss: 0.3879 - accuracy: 0.8250\n",
            "Epoch 49/100\n",
            "83/83 [==============================] - 0s 1ms/step - loss: 0.3840 - accuracy: 0.8250\n",
            "Epoch 50/100\n",
            "83/83 [==============================] - 0s 1ms/step - loss: 0.3824 - accuracy: 0.8285\n",
            "Epoch 51/100\n",
            "83/83 [==============================] - 0s 1ms/step - loss: 0.3800 - accuracy: 0.8269\n",
            "Epoch 52/100\n",
            "83/83 [==============================] - 0s 1ms/step - loss: 0.3825 - accuracy: 0.8281\n",
            "Epoch 53/100\n",
            "83/83 [==============================] - 0s 1ms/step - loss: 0.3811 - accuracy: 0.8258\n",
            "Epoch 54/100\n",
            "83/83 [==============================] - 0s 1ms/step - loss: 0.3737 - accuracy: 0.8315\n",
            "Epoch 55/100\n",
            "83/83 [==============================] - 0s 1ms/step - loss: 0.3742 - accuracy: 0.8277\n",
            "Epoch 56/100\n",
            "83/83 [==============================] - 0s 1ms/step - loss: 0.3733 - accuracy: 0.8288\n",
            "Epoch 57/100\n",
            "83/83 [==============================] - 0s 1ms/step - loss: 0.3702 - accuracy: 0.8330\n",
            "Epoch 58/100\n",
            "83/83 [==============================] - 0s 1ms/step - loss: 0.3679 - accuracy: 0.8345\n",
            "Epoch 59/100\n",
            "83/83 [==============================] - 0s 1ms/step - loss: 0.3673 - accuracy: 0.8330\n",
            "Epoch 60/100\n",
            "83/83 [==============================] - 0s 1ms/step - loss: 0.3702 - accuracy: 0.8376\n",
            "Epoch 61/100\n",
            "83/83 [==============================] - 0s 1ms/step - loss: 0.3667 - accuracy: 0.8330\n",
            "Epoch 62/100\n",
            "83/83 [==============================] - 0s 1ms/step - loss: 0.3630 - accuracy: 0.8368\n",
            "Epoch 63/100\n",
            "83/83 [==============================] - 0s 1ms/step - loss: 0.3612 - accuracy: 0.8376\n",
            "Epoch 64/100\n",
            "83/83 [==============================] - 0s 1ms/step - loss: 0.3638 - accuracy: 0.8364\n",
            "Epoch 65/100\n",
            "83/83 [==============================] - 0s 1ms/step - loss: 0.3603 - accuracy: 0.8387\n",
            "Epoch 66/100\n",
            "83/83 [==============================] - 0s 1ms/step - loss: 0.3572 - accuracy: 0.8361\n",
            "Epoch 67/100\n",
            "83/83 [==============================] - 0s 1ms/step - loss: 0.3528 - accuracy: 0.8398\n",
            "Epoch 68/100\n",
            "83/83 [==============================] - 0s 1ms/step - loss: 0.3603 - accuracy: 0.8387\n",
            "Epoch 69/100\n",
            "83/83 [==============================] - 0s 1ms/step - loss: 0.3542 - accuracy: 0.8429\n",
            "Epoch 70/100\n",
            "83/83 [==============================] - 0s 1ms/step - loss: 0.3488 - accuracy: 0.8455\n",
            "Epoch 71/100\n",
            "83/83 [==============================] - 0s 1ms/step - loss: 0.3500 - accuracy: 0.8429\n",
            "Epoch 72/100\n",
            "83/83 [==============================] - 0s 1ms/step - loss: 0.3483 - accuracy: 0.8421\n",
            "Epoch 73/100\n",
            "83/83 [==============================] - 0s 1ms/step - loss: 0.3455 - accuracy: 0.8455\n",
            "Epoch 74/100\n",
            "83/83 [==============================] - 0s 1ms/step - loss: 0.3463 - accuracy: 0.8440\n",
            "Epoch 75/100\n",
            "83/83 [==============================] - 0s 1ms/step - loss: 0.3456 - accuracy: 0.8448\n",
            "Epoch 76/100\n",
            "83/83 [==============================] - 0s 1ms/step - loss: 0.3433 - accuracy: 0.8440\n",
            "Epoch 77/100\n",
            "83/83 [==============================] - 0s 1ms/step - loss: 0.3457 - accuracy: 0.8433\n",
            "Epoch 78/100\n",
            "83/83 [==============================] - 0s 1ms/step - loss: 0.3400 - accuracy: 0.8509\n",
            "Epoch 79/100\n",
            "83/83 [==============================] - 0s 1ms/step - loss: 0.3382 - accuracy: 0.8524\n",
            "Epoch 80/100\n",
            "83/83 [==============================] - 0s 1ms/step - loss: 0.3415 - accuracy: 0.8429\n",
            "Epoch 81/100\n",
            "83/83 [==============================] - 0s 1ms/step - loss: 0.3401 - accuracy: 0.8425\n",
            "Epoch 82/100\n",
            "83/83 [==============================] - 0s 1ms/step - loss: 0.3333 - accuracy: 0.8531\n",
            "Epoch 83/100\n",
            "83/83 [==============================] - 0s 1ms/step - loss: 0.3315 - accuracy: 0.8520\n",
            "Epoch 84/100\n",
            "83/83 [==============================] - 0s 1ms/step - loss: 0.3329 - accuracy: 0.8493\n",
            "Epoch 85/100\n",
            "83/83 [==============================] - 0s 1ms/step - loss: 0.3327 - accuracy: 0.8539\n",
            "Epoch 86/100\n",
            "83/83 [==============================] - 0s 1ms/step - loss: 0.3309 - accuracy: 0.8581\n",
            "Epoch 87/100\n",
            "83/83 [==============================] - 0s 1ms/step - loss: 0.3293 - accuracy: 0.8520\n",
            "Epoch 88/100\n",
            "83/83 [==============================] - 0s 1ms/step - loss: 0.3290 - accuracy: 0.8577\n",
            "Epoch 89/100\n",
            "83/83 [==============================] - 0s 1ms/step - loss: 0.3336 - accuracy: 0.8509\n",
            "Epoch 90/100\n",
            "83/83 [==============================] - 0s 1ms/step - loss: 0.3289 - accuracy: 0.8535\n",
            "Epoch 91/100\n",
            "83/83 [==============================] - 0s 1ms/step - loss: 0.3250 - accuracy: 0.8573\n",
            "Epoch 92/100\n",
            "83/83 [==============================] - 0s 1ms/step - loss: 0.3235 - accuracy: 0.8562\n",
            "Epoch 93/100\n",
            "83/83 [==============================] - 0s 1ms/step - loss: 0.3213 - accuracy: 0.8569\n",
            "Epoch 94/100\n",
            "83/83 [==============================] - 0s 1ms/step - loss: 0.3216 - accuracy: 0.8600\n",
            "Epoch 95/100\n",
            "83/83 [==============================] - 0s 1ms/step - loss: 0.3189 - accuracy: 0.8584\n",
            "Epoch 96/100\n",
            "83/83 [==============================] - 0s 1ms/step - loss: 0.3151 - accuracy: 0.8626\n",
            "Epoch 97/100\n",
            "83/83 [==============================] - 0s 1ms/step - loss: 0.3195 - accuracy: 0.8569\n",
            "Epoch 98/100\n",
            "83/83 [==============================] - 0s 1ms/step - loss: 0.3162 - accuracy: 0.8581\n",
            "Epoch 99/100\n",
            "83/83 [==============================] - 0s 1ms/step - loss: 0.3140 - accuracy: 0.8622\n",
            "Epoch 100/100\n",
            "83/83 [==============================] - 0s 1ms/step - loss: 0.3140 - accuracy: 0.8619\n",
            "44/44 [==============================] - 0s 756us/step - loss: 0.8006 - accuracy: 0.6709\n",
            "[0.8005971312522888, 0.6709310412406921]\n",
            "Classification Report: \n",
            "               precision    recall  f1-score   support\n",
            "\n",
            "           0       0.89      0.63      0.74      1033\n",
            "           1       0.43      0.78      0.56       374\n",
            "\n",
            "    accuracy                           0.67      1407\n",
            "   macro avg       0.66      0.70      0.65      1407\n",
            "weighted avg       0.77      0.67      0.69      1407\n",
            "\n"
          ],
          "name": "stdout"
        }
      ]
    },
    {
      "cell_type": "code",
      "metadata": {
        "colab": {
          "base_uri": "https://localhost:8080/"
        },
        "id": "hb3IVqJ9ZZK2",
        "outputId": "514466b8-fb93-4703-9e15-074b0ba43e44"
      },
      "source": [
        "y_pred_final = y_pred1.copy()\n",
        "for i in range(len(y_pred1)):\n",
        "    n_ones = y_pred1[i] + y_pred2[i] + y_pred3[i]\n",
        "    if n_ones > 1.:\n",
        "        y_pred_final[i] = 1\n",
        "    else:\n",
        "        y_pred_final[i] = 0\n",
        "\n",
        "cl_rep = classification_report(y_test, y_pred_final)\n",
        "print(cl_rep)"
      ],
      "execution_count": 65,
      "outputs": [
        {
          "output_type": "stream",
          "text": [
            "              precision    recall  f1-score   support\n",
            "\n",
            "           0       0.88      0.69      0.77      1033\n",
            "           1       0.46      0.73      0.57       374\n",
            "\n",
            "    accuracy                           0.70      1407\n",
            "   macro avg       0.67      0.71      0.67      1407\n",
            "weighted avg       0.77      0.70      0.72      1407\n",
            "\n"
          ],
          "name": "stdout"
        }
      ]
    }
  ]
}