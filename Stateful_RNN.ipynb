{
 "cells": [
  {
   "cell_type": "code",
   "execution_count": 1,
   "id": "64fc88df",
   "metadata": {},
   "outputs": [],
   "source": [
    "# Stateful RNN will remember every previous data until you use \"reset_states()\" function\n",
    "# The below are some point to notice when using Stateful RNN module\n",
    "# 1.When using TimeseriesGenerator() to create data, the shuffle parameters have to be set to False, to keep the time sequal.\n",
    "# 2.batch_size needs to be set 1.\n",
    "# 3.We have to set the batch_input_shape in the first layer.\n",
    "# 4.reset_states() often use in every epoch series or when predict, evaluate a data before.\n",
    "# 5.When using fit(), fit_generator(), set the shuffle to \"False\"."
   ]
  },
  {
   "cell_type": "code",
   "execution_count": 2,
   "id": "de346158",
   "metadata": {},
   "outputs": [],
   "source": [
    "from tensorflow.keras.utils import to_categorical\n",
    "\n",
    "data = [0,1,1,1,1,1,1,2,2,2,2,3,3]*5\n",
    "data = to_categorical(data)"
   ]
  },
  {
   "cell_type": "code",
   "execution_count": 3,
   "id": "72856770",
   "metadata": {},
   "outputs": [],
   "source": [
    "from tensorflow.keras.preprocessing.sequence import TimeseriesGenerator"
   ]
  },
  {
   "cell_type": "code",
   "execution_count": 4,
   "id": "5f314f87",
   "metadata": {},
   "outputs": [],
   "source": [
    "data_gen = TimeseriesGenerator(data, data, length=1, batch_size=1)\n",
    "                            # data , target "
   ]
  },
  {
   "cell_type": "code",
   "execution_count": 5,
   "id": "df238406",
   "metadata": {},
   "outputs": [
    {
     "data": {
      "text/plain": [
       "(array([[[1., 0., 0., 0.]]], dtype=float32),\n",
       " array([[0., 1., 0., 0.]], dtype=float32))"
      ]
     },
     "execution_count": 5,
     "metadata": {},
     "output_type": "execute_result"
    }
   ],
   "source": [
    "data_gen[0]\n",
    "# input and prediction"
   ]
  },
  {
   "cell_type": "code",
   "execution_count": 6,
   "id": "45988bbc",
   "metadata": {},
   "outputs": [],
   "source": [
    "from tensorflow.keras.models import Sequential\n",
    "from tensorflow.keras import layers "
   ]
  },
  {
   "cell_type": "code",
   "execution_count": 7,
   "id": "76718594",
   "metadata": {},
   "outputs": [
    {
     "name": "stdout",
     "output_type": "stream",
     "text": [
      "Model: \"sequential\"\n",
      "_________________________________________________________________\n",
      "Layer (type)                 Output Shape              Param #   \n",
      "=================================================================\n",
      "simple_rnn (SimpleRNN)       (1, 10)                   150       \n",
      "_________________________________________________________________\n",
      "dense (Dense)                (1, 4)                    44        \n",
      "=================================================================\n",
      "Total params: 194\n",
      "Trainable params: 194\n",
      "Non-trainable params: 0\n",
      "_________________________________________________________________\n"
     ]
    }
   ],
   "source": [
    "model = Sequential([\n",
    "    layers.SimpleRNN(10, stateful=True, batch_input_shape=(1,None,4)),\n",
    "    layers.Dense(4, activation='softmax')\n",
    "])\n",
    "model.summary()"
   ]
  },
  {
   "cell_type": "code",
   "execution_count": 8,
   "id": "42a2b174",
   "metadata": {},
   "outputs": [],
   "source": [
    "model.compile(optimizer='rmsprop',\n",
    "             loss='categorical_crossentropy',\n",
    "             metrics=['acc'])"
   ]
  },
  {
   "cell_type": "code",
   "execution_count": 9,
   "id": "273ce168",
   "metadata": {},
   "outputs": [],
   "source": [
    "epochs = 50"
   ]
  },
  {
   "cell_type": "code",
   "execution_count": 10,
   "id": "20f72457",
   "metadata": {
    "scrolled": true
   },
   "outputs": [
    {
     "name": "stdout",
     "output_type": "stream",
     "text": [
      "Epoch 1 / 50\n"
     ]
    },
    {
     "name": "stderr",
     "output_type": "stream",
     "text": [
      "C:\\ProgramData\\Anaconda3\\lib\\site-packages\\keras\\engine\\training.py:1972: UserWarning: `Model.fit_generator` is deprecated and will be removed in a future version. Please use `Model.fit`, which supports generators.\n",
      "  warnings.warn('`Model.fit_generator` is deprecated and '\n"
     ]
    },
    {
     "name": "stdout",
     "output_type": "stream",
     "text": [
      "64/64 [==============================] - 1s 1ms/step - loss: 1.5193 - acc: 0.1719\n",
      "Epoch 2 / 50\n",
      "64/64 [==============================] - 0s 1ms/step - loss: 1.2280 - acc: 0.5625\n",
      "Epoch 3 / 50\n",
      "64/64 [==============================] - 0s 1ms/step - loss: 0.9934 - acc: 0.7812\n",
      "Epoch 4 / 50\n",
      "64/64 [==============================] - 0s 953us/step - loss: 0.8288 - acc: 0.8438\n",
      "Epoch 5 / 50\n",
      "64/64 [==============================] - 0s 848us/step - loss: 0.7208 - acc: 0.8125\n",
      "Epoch 6 / 50\n",
      "64/64 [==============================] - 0s 1ms/step - loss: 0.6426 - acc: 0.7969\n",
      "Epoch 7 / 50\n",
      "64/64 [==============================] - 0s 1ms/step - loss: 0.5789 - acc: 0.8438\n",
      "Epoch 8 / 50\n",
      "64/64 [==============================] - 0s 974us/step - loss: 0.5252 - acc: 0.8438\n",
      "Epoch 9 / 50\n",
      "64/64 [==============================] - 0s 887us/step - loss: 0.4804 - acc: 0.8438\n",
      "Epoch 10 / 50\n",
      "64/64 [==============================] - 0s 1ms/step - loss: 0.4437 - acc: 0.8438\n",
      "Epoch 11 / 50\n",
      "64/64 [==============================] - 0s 1ms/step - loss: 0.4134 - acc: 0.8438\n",
      "Epoch 12 / 50\n",
      "64/64 [==============================] - 0s 840us/step - loss: 0.3878 - acc: 0.8438\n",
      "Epoch 13 / 50\n",
      "64/64 [==============================] - 0s 857us/step - loss: 0.3654 - acc: 0.8438\n",
      "Epoch 14 / 50\n",
      "64/64 [==============================] - 0s 821us/step - loss: 0.3455 - acc: 0.8438\n",
      "Epoch 15 / 50\n",
      "64/64 [==============================] - 0s 863us/step - loss: 0.3274 - acc: 0.8438\n",
      "Epoch 16 / 50\n",
      "64/64 [==============================] - 0s 871us/step - loss: 0.3109 - acc: 0.8438\n",
      "Epoch 17 / 50\n",
      "64/64 [==============================] - 0s 1ms/step - loss: 0.2955 - acc: 0.8438\n",
      "Epoch 18 / 50\n",
      "64/64 [==============================] - 0s 1ms/step - loss: 0.2812 - acc: 0.8438\n",
      "Epoch 19 / 50\n",
      "64/64 [==============================] - 0s 844us/step - loss: 0.2677 - acc: 0.8750\n",
      "Epoch 20 / 50\n",
      "64/64 [==============================] - 0s 846us/step - loss: 0.2552 - acc: 0.9219\n",
      "Epoch 21 / 50\n",
      "64/64 [==============================] - 0s 854us/step - loss: 0.2437 - acc: 0.9219\n",
      "Epoch 22 / 50\n",
      "64/64 [==============================] - 0s 861us/step - loss: 0.2333 - acc: 0.9219\n",
      "Epoch 23 / 50\n",
      "64/64 [==============================] - 0s 840us/step - loss: 0.2244 - acc: 0.9375\n",
      "Epoch 24 / 50\n",
      "64/64 [==============================] - 0s 886us/step - loss: 0.2172 - acc: 0.9375\n",
      "Epoch 25 / 50\n",
      "64/64 [==============================] - 0s 845us/step - loss: 0.2116 - acc: 0.9375\n",
      "Epoch 26 / 50\n",
      "64/64 [==============================] - 0s 896us/step - loss: 0.2074 - acc: 0.9375\n",
      "Epoch 27 / 50\n",
      "64/64 [==============================] - 0s 860us/step - loss: 0.2040 - acc: 0.9219\n",
      "Epoch 28 / 50\n",
      "64/64 [==============================] - 0s 887us/step - loss: 0.2009 - acc: 0.9062\n",
      "Epoch 29 / 50\n",
      "64/64 [==============================] - 0s 885us/step - loss: 0.1978 - acc: 0.9062\n",
      "Epoch 30 / 50\n",
      "64/64 [==============================] - 0s 887us/step - loss: 0.1944 - acc: 0.9062\n",
      "Epoch 31 / 50\n",
      "64/64 [==============================] - 0s 899us/step - loss: 0.1903 - acc: 0.9062\n",
      "Epoch 32 / 50\n",
      "64/64 [==============================] - 0s 887us/step - loss: 0.1855 - acc: 0.9062\n",
      "Epoch 33 / 50\n",
      "64/64 [==============================] - 0s 900us/step - loss: 0.1798 - acc: 0.9219 0s - loss: 0.1852 - acc: 0.915\n",
      "Epoch 34 / 50\n",
      "64/64 [==============================] - 0s 840us/step - loss: 0.1735 - acc: 0.9219\n",
      "Epoch 35 / 50\n",
      "64/64 [==============================] - 0s 870us/step - loss: 0.1665 - acc: 0.9375\n",
      "Epoch 36 / 50\n",
      "64/64 [==============================] - 0s 887us/step - loss: 0.1590 - acc: 0.9375\n",
      "Epoch 37 / 50\n",
      "64/64 [==============================] - 0s 855us/step - loss: 0.1511 - acc: 0.9375\n",
      "Epoch 38 / 50\n",
      "64/64 [==============================] - 0s 871us/step - loss: 0.1430 - acc: 0.9531\n",
      "Epoch 39 / 50\n",
      "64/64 [==============================] - 0s 873us/step - loss: 0.1348 - acc: 0.9531\n",
      "Epoch 40 / 50\n",
      "64/64 [==============================] - 0s 861us/step - loss: 0.1265 - acc: 0.9531\n",
      "Epoch 41 / 50\n",
      "64/64 [==============================] - 0s 855us/step - loss: 0.1183 - acc: 0.9688\n",
      "Epoch 42 / 50\n",
      "64/64 [==============================] - 0s 885us/step - loss: 0.1102 - acc: 0.9688 0s - loss: 0.1120 - acc: 0.966\n",
      "Epoch 43 / 50\n",
      "64/64 [==============================] - 0s 891us/step - loss: 0.1024 - acc: 0.9844\n",
      "Epoch 44 / 50\n",
      "64/64 [==============================] - 0s 887us/step - loss: 0.0950 - acc: 0.9844\n",
      "Epoch 45 / 50\n",
      "64/64 [==============================] - 0s 872us/step - loss: 0.0880 - acc: 0.9844\n",
      "Epoch 46 / 50\n",
      "64/64 [==============================] - 0s 859us/step - loss: 0.0818 - acc: 1.0000\n",
      "Epoch 47 / 50\n",
      "64/64 [==============================] - 0s 855us/step - loss: 0.0766 - acc: 1.0000\n",
      "Epoch 48 / 50\n",
      "64/64 [==============================] - 0s 851us/step - loss: 0.0724 - acc: 1.0000\n",
      "Epoch 49 / 50\n",
      "64/64 [==============================] - 0s 854us/step - loss: 0.0689 - acc: 1.0000\n",
      "Epoch 50 / 50\n",
      "64/64 [==============================] - 0s 887us/step - loss: 0.0658 - acc: 1.0000\n"
     ]
    }
   ],
   "source": [
    "for i in range(epochs):\n",
    "    print('Epoch', i + 1, '/', epochs)\n",
    "    model.fit_generator(data_gen, epochs=1, shuffle=False)\n",
    "    model.reset_states()"
   ]
  },
  {
   "cell_type": "code",
   "execution_count": 28,
   "id": "5286f134",
   "metadata": {},
   "outputs": [],
   "source": [
    "model.reset_states()  # reset in the intial step\n",
    "out_put = data_gen[0][0] # predict by first data"
   ]
  },
  {
   "cell_type": "code",
   "execution_count": 29,
   "id": "f96b7905",
   "metadata": {},
   "outputs": [],
   "source": [
    "import numpy as np\n",
    "# prediction = model.predict(out_put, batch_size=1)\n",
    "# np.argmax(prediction)"
   ]
  },
  {
   "cell_type": "code",
   "execution_count": 32,
   "id": "8a595903",
   "metadata": {},
   "outputs": [],
   "source": [
    "# The best way to check whether the network have learned the way is to show the result"
   ]
  },
  {
   "cell_type": "code",
   "execution_count": 33,
   "id": "19c3073e",
   "metadata": {},
   "outputs": [
    {
     "name": "stdout",
     "output_type": "stream",
     "text": [
      "3\n",
      "0\n",
      "1\n",
      "1\n",
      "1\n",
      "1\n",
      "1\n",
      "1\n",
      "2\n",
      "2\n",
      "2\n",
      "2\n",
      "3\n",
      "3\n",
      "0\n",
      "1\n",
      "1\n",
      "1\n",
      "1\n",
      "1\n",
      "1\n",
      "2\n",
      "2\n",
      "2\n",
      "2\n",
      "3\n",
      "3\n",
      "0\n",
      "1\n",
      "1\n",
      "1\n",
      "1\n",
      "1\n",
      "1\n",
      "2\n",
      "2\n",
      "2\n",
      "2\n",
      "3\n",
      "3\n",
      "0\n",
      "1\n",
      "1\n",
      "1\n",
      "1\n",
      "1\n",
      "1\n",
      "2\n",
      "2\n",
      "2\n"
     ]
    }
   ],
   "source": [
    "for i in range(50):\n",
    "    prediction = model.predict(out_put, batch_size=1)\n",
    "    predict = np.argmax(prediction)\n",
    "    print(predict)\n",
    "    out_put = to_categorical(predict, num_classes=4).reshape(1, -1, 4)"
   ]
  }
 ],
 "metadata": {
  "kernelspec": {
   "display_name": "Python 3",
   "language": "python",
   "name": "python3"
  },
  "language_info": {
   "codemirror_mode": {
    "name": "ipython",
    "version": 3
   },
   "file_extension": ".py",
   "mimetype": "text/x-python",
   "name": "python",
   "nbconvert_exporter": "python",
   "pygments_lexer": "ipython3",
   "version": "3.8.8"
  }
 },
 "nbformat": 4,
 "nbformat_minor": 5
}
